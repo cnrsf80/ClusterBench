{
 "cells": [
  {
   "cell_type": "heading",
   "metadata": {
    "collapsed": true
   },
   "level": 1,
   "source": []
  },
  {
   "cell_type": "heading",
   "metadata": {},
   "level": 2,
   "source": [
    "Regroupement des mesures"
   ]
  },
  {
   "cell_type": "markdown",
   "metadata": {},
   "source": [
    "définition d'une fonction de construction d'un modele de référence"
   ]
  },
  {
   "cell_type": "code",
   "execution_count": null,
   "metadata": {},
   "outputs": [],
   "source": [
    "def create_reference_model(data, col_name,n_mesures):\n",
    "    data[\"Ref\"] = data.index\n",
    "    data.index = range(len(data))\n",
    "    mod = algo.model(data, col_name, range(1, n_mesures))\n",
    "    #mod.init_distances(lambda i, j: scipy.spatial.distance.cityblock(i, j))\n",
    "    true_labels = mod.ideal_matrix()  # Définition d'un clustering de référence pour les métriques\n",
    "    mod.clusters_from_labels(true_labels)\n",
    "    return mod"
   ]
  }
 ],
 "metadata": {
  "kernelspec": {
   "display_name": "Python 2",
   "language": "python",
   "name": "python2"
  },
  "language_info": {
   "codemirror_mode": {
    "name": "ipython",
    "version": 2
   },
   "file_extension": ".py",
   "mimetype": "text/x-python",
   "name": "python",
   "nbconvert_exporter": "python",
   "pygments_lexer": "ipython2",
   "version": "2.7.6"
  }
 },
 "nbformat": 4,
 "nbformat_minor": 0
}
