{
 "cells": [
  {
   "cell_type": "code",
   "execution_count": 2,
   "metadata": {
    "collapsed": true
   },
   "outputs": [
    {
     "data": {
      "text/html": [
       "<script>\n",
       "require([\"https://cdnjs.cloudflare.com/ajax/libs/vis/4.21.0/vis.min.js\"], function(lib) {\n",
       "    console.log(\"The following js libs loaded:\");\n",
       "    console.log(\"https://cdnjs.cloudflare.com/ajax/libs/vis/4.21.0/vis.min.js\");\n",
       "    window.vis = jQuery.extend(true, {}, lib);\n",
       "    console.log('vis js lib accessible as vis');\n",
       "\n",
       "});\n",
       "</script>"
      ],
      "text/plain": [
       "<script>\n",
       "require([\"https://cdnjs.cloudflare.com/ajax/libs/vis/4.21.0/vis.min.js\"], function(lib) {\n",
       "    console.log(\"The following js libs loaded:\");\n",
       "    console.log(\"https://cdnjs.cloudflare.com/ajax/libs/vis/4.21.0/vis.min.js\");\n",
       "    window.vis = jQuery.extend(true, {}, lib);\n",
       "    console.log('vis js lib accessible as vis');\n",
       "\n",
       "});\n",
       "</script>"
      ]
     },
     "execution_count": 0,
     "metadata": {},
     "output_type": "execute_result"
    },
    {
     "name": "stdout",
     "output_type": "stream",
     "text": [
      "Fabrication de la matrice ideal\n"
     ]
    },
    {
     "name": "stdout",
     "output_type": "stream",
     "text": [
      "Cluster:cl_0=\nCluster:cl_1=1L SM2 T1 / 1L SM2 T1 / 1L SM2 T1 / 1L SM2 T1 / 1L SM2 T1 / 1L SM2 T1 / 1L SM2 T1 / 1L SM2 T1 / 1L SM2 T1\nCluster:cl_2=1L SM2 T2 / 1L SM2 T2 / 1L SM2 T2 / 1L SM2 T2 / 1L SM2 T2 / 1L SM2 T2 / 1L SM2 T2 / 1L SM2 T2 / 1L SM2 T2\nCluster:cl_3=2M SM6 T1 / 2M SM6 T1 / 2M SM6 T1 / 2M SM6 T1 / 2M SM6 T1 / 2M SM6 T1 / 2M SM6 T1\nCluster:cl_4=2M SM6 T2 / 2M SM6 T2 / 2M SM6 T2 / 2M SM6 T2 / 2M SM6 T2\nCluster:cl_5=2M SM6 T2A / 2M SM6 T2A / 2M SM6 T2A\nCluster:cl_6=2M SM6 T3 / 2M SM6 T3 / 2M SM6 T3 / 2M SM6 T3 / 2M SM6 T3 / 2M SM6 T3 / 2M SM6 T3 / 2M SM6 T3 / 2M SM6 T3 / 2M SM6 T3 / 2M SM6 T3 / 2M SM6 T3 / 2M SM6 T3 / 2M SM6 T3 / 2M SM6 T3\nCluster:cl_7=2M SM9 T1 / 2M SM9 T1 / 2M SM9 T1 / 2M SM9 T1 / 2M SM9 T1 / 2M SM9 T1 / 2M SM9 T1 / 2M SM9 T1 / 2M SM9 T1 / 2M SM9 T1 / 2M SM9 T1 / 2M SM9 T1 / 2M SM9 T1\nCluster:cl_8=2M SM9 T1A / 2M SM9 T1A / 2M SM9 T1A / 2M SM9 T1A / 2M SM9 T1A\nCluster:cl_9=4C SM2 T1 / 4C SM2 T1 / 4C SM2 T1 / 4C SM2 T1 / 4C SM2 T1 / 4C SM2 T1 / 4C SM2 T1 / 4C SM2 T1 / 4C SM2 T1 / 4C SM2 T1 / 4C SM2 T1 / 4C SM2 T1 / 4C SM2 T1 / 4C SM2 T1 / 4C SM2 T1 / 4C SM2 T1 / 4C SM2 T1 / 4C SM2 T1\nCluster:cl_10=4C SM2 T2 / 4C SM2 T2\nCluster:cl_11=4C SM2 T3 / 4C SM2 T3 / 4C SM2 T3\nCluster:cl_12=6C SM6 T1 / 6C SM6 T1 / 6C SM6 T1 / 6C SM6 T1 / 6C SM6 T1 / 6C SM6 T1 / 6C SM6 T1 / 6C SM6 T1 / 6C SM6 T1 / 6C SM6 T1 / 6C SM6 T1 / 6C SM6 T1 / 6C SM6 T1 / 6C SM6 T1 / 6C SM6 T1 / 6C SM6 T1 / 6C SM6 T1 / 6C SM6 T1 / 6C SM6 T1 / 6C SM6 T1 / 6C SM6 T1\nCluster:cl_13=Montagne Noire / Montagne Noire / Montagne Noire / Montagne Noire / Montagne Noire / Montagne Noire / Montagne Noire / Montagne Noire / Montagne Noire / Montagne Noire / Montagne Noire / Montagne Noire / Montagne Noire / Montagne Noire / Montagne Noire / Montagne Noire / Montagne Noire / Montagne Noire / Montagne Noire / Montagne Noire / Montagne Noire / Montagne Noire / Montagne Noire / Montagne Noire\nCluster:cl_14=SM10-2-L1 / SM10-2-L1 / SM10-2-L1 / SM10-2-L1 / SM10-2-L1 / SM10-2-L1 / SM10-2-L1 / SM10-2-L1 / SM10-2-L1\nCluster:cl_15=SM10-2-L3 / SM10-2-L3 / SM10-2-L3 / SM10-2-L3 / SM10-2-L3 / SM10-2-L3 / SM10-2-L3 / SM10-2-L3 / SM10-2-L3\nCluster:cl_16=SM2-1-L2 / SM2-1-L2 / SM2-1-L2 / SM2-1-L2 / SM2-1-L2 / SM2-1-L2 / SM2-1-L2 / SM2-1-L2 / SM2-1-L2 / SM2-1-L2 / SM2-1-L2 / SM2-1-L2\nCluster:cl_17=SM2-1-L3 / SM2-1-L3 / SM2-1-L3 / SM2-1-L3 / SM2-1-L3 / SM2-1-L3 / SM2-1-L3 / SM2-1-L3 / SM2-1-L3 / SM2-1-L3 / SM2-1-L3 / SM2-1-L3\nCluster:cl_18=SM24-1-ind / SM24-1-ind / SM24-1-ind / SM24-1-ind / SM24-1-ind / SM24-1-ind / SM24-1-ind / SM24-1-ind / SM24-1-ind\nCluster:cl_19=SM24-1-indA / SM24-1-indA / SM24-1-indA\nCluster:cl_20=SM24-1-L1 / SM24-1-L1 / SM24-1-L1 / SM24-1-L1 / SM24-1-L1 / SM24-1-L1 / SM24-1-L1 / SM24-1-L1 / SM24-1-L1 / SM24-1-L1 / SM24-1-L1 / SM24-1-L1\nCluster:cl_21=SM24-1-L2A / SM24-1-L2A\nCluster:cl_22=SM24-1-L2 / SM24-1-L2 / SM24-1-L2 / SM24-1-L2 / SM24-1-L2 / SM24-1-L2 / SM24-1-L2\nCluster:cl_23=SM24-2-L1 / SM24-2-L1 / SM24-2-L1 / SM24-2-L1 / SM24-2-L1 / SM24-2-L1\nCluster:cl_24=SM24-2-L1A / SM24-2-L1A / SM24-2-L1A\nCluster:cl_25=SM24-2-L2 / SM24-2-L2 / SM24-2-L2 / SM24-2-L2 / SM24-2-L2 / SM24-2-L2 / SM24-2-L2 / SM24-2-L2\nCluster:cl_26=SM24-2-L3 / SM24-2-L3 / SM24-2-L3 / SM24-2-L3 / SM24-2-L3 / SM24-2-L3 / SM24-2-L3 / SM24-2-L3 / SM24-2-L3\nCluster:cl_27=SM24-2-L4 / SM24-2-L4 / SM24-2-L4 / SM24-2-L4 / SM24-2-L4 / SM24-2-L4 / SM24-2-L4 / SM24-2-L4 / SM24-2-L4\n\n"
     ]
    }
   ],
   "source": [
    "import pandas as pd\n",
    "import simulation\n",
    "\n",
    "ref_mod=simulation.create_reference_model(pd.read_excel(\"./datas/Pour clustering.xlsx\"),\"id\",11)\n",
    "print(ref_mod.print_cluster(\"\\n\"))"
   ]
  },
  {
   "cell_type": "code",
   "execution_count": 3,
   "metadata": {},
   "outputs": [],
   "source": [
    "import numpy as np\n",
    "from sklearn import cluster as cl\n",
    "col_name=\"id\"\n",
    "s= simulation.simulation(ref_mod, col_name)"
   ]
  },
  {
   "cell_type": "markdown",
   "metadata": {},
   "source": [
    "La simulation est initialisée, on peut exécuter les principaux algorithme de clustering en faisant varier certains paramètres"
   ]
  },
  {
   "cell_type": "code",
   "execution_count": 4,
   "metadata": {},
   "outputs": [
    {
     "name": "stdout",
     "output_type": "stream",
     "text": [
      "Traitement de HAC ********************************************************************\nChargement du cluster depuis un préenregistrement pour HAC n_cluster=10 method=euclidean \nChargement du cluster depuis un préenregistrement pour HAC n_cluster=11 method=euclidean \nChargement du cluster depuis un préenregistrement pour HAC n_cluster=12 method=euclidean \nChargement du cluster depuis un préenregistrement pour HAC n_cluster=13 method=euclidean \nChargement du cluster depuis un préenregistrement pour HAC n_cluster=14 method=euclidean \nChargement du cluster depuis un préenregistrement pour HAC n_cluster=15 method=euclidean \nChargement du cluster depuis un préenregistrement pour HAC n_cluster=16 method=euclidean \nChargement du cluster depuis un préenregistrement pour HAC n_cluster=17 method=euclidean \nChargement du cluster depuis un préenregistrement pour HAC n_cluster=18 method=euclidean \nChargement du cluster depuis un préenregistrement pour HAC n_cluster=19 method=euclidean \nChargement du cluster depuis un préenregistrement pour HAC n_cluster=20 method=euclidean \nChargement du cluster depuis un préenregistrement pour HAC n_cluster=21 method=euclidean \nChargement du cluster depuis un préenregistrement pour HAC n_cluster=22 method=euclidean \nChargement du cluster depuis un préenregistrement pour HAC n_cluster=23 method=euclidean \n"
     ]
    },
    {
     "name": "stdout",
     "output_type": "stream",
     "text": [
      "Chargement du cluster depuis un préenregistrement pour HAC n_cluster=24 method=euclidean \n"
     ]
    }
   ],
   "source": [
    "s.execute(\"HAC\",\n",
    "          lambda x:\n",
    "            cl.AgglomerativeClustering(n_clusters=x[\"n_cluster\"],affinity=x[\"method\"]),\n",
    "          {\"n_cluster\":range(10,25),\"method\":[\"euclidean\"]}\n",
    "          )\n"
   ]
  },
  {
   "cell_type": "code",
   "execution_count": 5,
   "metadata": {},
   "outputs": [
    {
     "name": "stdout",
     "output_type": "stream",
     "text": [
      "Traitement de DBSCAN ********************************************************************\nChargement du cluster depuis un préenregistrement pour DBSCAN eps=0.1 min_elements=2 \nChargement du cluster depuis un préenregistrement pour DBSCAN eps=0.1 min_elements=3 \nChargement du cluster depuis un préenregistrement pour DBSCAN eps=0.1 min_elements=4 \nChargement du cluster depuis un préenregistrement pour DBSCAN eps=0.1 min_elements=5 \nChargement du cluster depuis un préenregistrement pour DBSCAN eps=0.2 min_elements=2 \nChargement du cluster depuis un préenregistrement pour DBSCAN eps=0.2 min_elements=3 \nChargement du cluster depuis un préenregistrement pour DBSCAN eps=0.2 min_elements=4 \nChargement du cluster depuis un préenregistrement pour DBSCAN eps=0.2 min_elements=5 \nChargement du cluster depuis un préenregistrement pour DBSCAN eps=0.3 min_elements=2 \nChargement du cluster depuis un préenregistrement pour DBSCAN eps=0.3 min_elements=3 \nChargement du cluster depuis un préenregistrement pour DBSCAN eps=0.3 min_elements=4 \nChargement du cluster depuis un préenregistrement pour DBSCAN eps=0.3 min_elements=5 \nChargement du cluster depuis un préenregistrement pour DBSCAN eps=0.4 min_elements=2 \nChargement du cluster depuis un préenregistrement pour DBSCAN eps=0.4 min_elements=3 \nChargement du cluster depuis un préenregistrement pour DBSCAN eps=0.4 min_elements=4 \nChargement du cluster depuis un préenregistrement pour DBSCAN eps=0.4 min_elements=5 \nChargement du cluster depuis un préenregistrement pour DBSCAN eps=0.5 min_elements=2 \n"
     ]
    },
    {
     "name": "stdout",
     "output_type": "stream",
     "text": [
      "Chargement du cluster depuis un préenregistrement pour DBSCAN eps=0.5 min_elements=3 \nChargement du cluster depuis un préenregistrement pour DBSCAN eps=0.5 min_elements=4 \nChargement du cluster depuis un préenregistrement pour DBSCAN eps=0.5 min_elements=5 \nChargement du cluster depuis un préenregistrement pour DBSCAN eps=0.6 min_elements=2 \nChargement du cluster depuis un préenregistrement pour DBSCAN eps=0.6 min_elements=3 \nChargement du cluster depuis un préenregistrement pour DBSCAN eps=0.6 min_elements=4 \nChargement du cluster depuis un préenregistrement pour DBSCAN eps=0.6 min_elements=5 \nChargement du cluster depuis un préenregistrement pour DBSCAN eps=0.7 min_elements=2 \nChargement du cluster depuis un préenregistrement pour DBSCAN eps=0.7 min_elements=3 \nChargement du cluster depuis un préenregistrement pour DBSCAN eps=0.7 min_elements=4 \nChargement du cluster depuis un préenregistrement pour DBSCAN eps=0.7 min_elements=5 \nChargement du cluster depuis un préenregistrement pour DBSCAN eps=0.8 min_elements=2 \nChargement du cluster depuis un préenregistrement pour DBSCAN eps=0.8 min_elements=3 \nChargement du cluster depuis un préenregistrement pour DBSCAN eps=0.8 min_elements=4 \nChargement du cluster depuis un préenregistrement pour DBSCAN eps=0.8 min_elements=5 \n"
     ]
    }
   ],
   "source": [
    "s.execute(\"DBSCAN\",\n",
    "            lambda x:\n",
    "                cl.DBSCAN(eps=x[\"eps\"], min_samples=x[\"min_elements\"], n_jobs=4),\n",
    "            {\"eps\": np.arange(0.1, 0.9, 0.1), \"min_elements\": range(2, 6)})\n",
    "\n"
   ]
  },
  {
   "cell_type": "code",
   "execution_count": 6,
   "metadata": {},
   "outputs": [
    {
     "name": "stdout",
     "output_type": "stream",
     "text": [
      "Traitement de MEANSHIFT ********************************************************************\nChargement du cluster depuis un préenregistrement pour MEANSHIFT bandwidth=0.1 min_bin_freq=1 \nChargement du cluster depuis un préenregistrement pour MEANSHIFT bandwidth=0.1 min_bin_freq=2 \nChargement du cluster depuis un préenregistrement pour MEANSHIFT bandwidth=0.1 min_bin_freq=3 \nChargement du cluster depuis un préenregistrement pour MEANSHIFT bandwidth=0.2 min_bin_freq=1 \nChargement du cluster depuis un préenregistrement pour MEANSHIFT bandwidth=0.2 min_bin_freq=2 \nChargement du cluster depuis un préenregistrement pour MEANSHIFT bandwidth=0.2 min_bin_freq=3 \nChargement du cluster depuis un préenregistrement pour MEANSHIFT bandwidth=0.3 min_bin_freq=1 \nChargement du cluster depuis un préenregistrement pour MEANSHIFT bandwidth=0.3 min_bin_freq=2 \nChargement du cluster depuis un préenregistrement pour MEANSHIFT bandwidth=0.3 min_bin_freq=3 \nChargement du cluster depuis un préenregistrement pour MEANSHIFT bandwidth=0.4 min_bin_freq=1 \nChargement du cluster depuis un préenregistrement pour MEANSHIFT bandwidth=0.4 min_bin_freq=2 \nChargement du cluster depuis un préenregistrement pour MEANSHIFT bandwidth=0.4 min_bin_freq=3 \nChargement du cluster depuis un préenregistrement pour MEANSHIFT bandwidth=0.5 min_bin_freq=1 \nChargement du cluster depuis un préenregistrement pour MEANSHIFT bandwidth=0.5 min_bin_freq=2 \nChargement du cluster depuis un préenregistrement pour MEANSHIFT bandwidth=0.5 min_bin_freq=3 \n"
     ]
    },
    {
     "name": "stdout",
     "output_type": "stream",
     "text": [
      "Chargement du cluster depuis un préenregistrement pour MEANSHIFT bandwidth=0.6 min_bin_freq=1 \nChargement du cluster depuis un préenregistrement pour MEANSHIFT bandwidth=0.6 min_bin_freq=2 \nChargement du cluster depuis un préenregistrement pour MEANSHIFT bandwidth=0.6 min_bin_freq=3 \nChargement du cluster depuis un préenregistrement pour MEANSHIFT bandwidth=0.7 min_bin_freq=1 \nChargement du cluster depuis un préenregistrement pour MEANSHIFT bandwidth=0.7 min_bin_freq=2 \nChargement du cluster depuis un préenregistrement pour MEANSHIFT bandwidth=0.7 min_bin_freq=3 \nChargement du cluster depuis un préenregistrement pour MEANSHIFT bandwidth=0.8 min_bin_freq=1 \nChargement du cluster depuis un préenregistrement pour MEANSHIFT bandwidth=0.8 min_bin_freq=2 \nChargement du cluster depuis un préenregistrement pour MEANSHIFT bandwidth=0.8 min_bin_freq=3 \n"
     ]
    }
   ],
   "source": [
    "s.execute(\"MEANSHIFT\",\n",
    "                lambda x:\n",
    "                    cl.MeanShift(bandwidth=x[\"bandwidth\"],min_bin_freq=x[\"min_bin_freq\"]),\n",
    "                {\"bandwidth\": np.arange(0.1,0.9,0.1), \"min_bin_freq\": range(1,4)})\n",
    "\n"
   ]
  },
  {
   "cell_type": "code",
   "execution_count": 7,
   "metadata": {},
   "outputs": [
    {
     "name": "stdout",
     "output_type": "stream",
     "text": [
      "Traitement de SPECTRALCLUSTERING ********************************************************************\nChargement du cluster depuis un préenregistrement pour SPECTRALCLUSTERING n_cluster=6 n_neighbors=5 \nChargement du cluster depuis un préenregistrement pour SPECTRALCLUSTERING n_cluster=6 n_neighbors=6 \nChargement du cluster depuis un préenregistrement pour SPECTRALCLUSTERING n_cluster=6 n_neighbors=7 \nChargement du cluster depuis un préenregistrement pour SPECTRALCLUSTERING n_cluster=6 n_neighbors=8 \nChargement du cluster depuis un préenregistrement pour SPECTRALCLUSTERING n_cluster=6 n_neighbors=9 \nChargement du cluster depuis un préenregistrement pour SPECTRALCLUSTERING n_cluster=7 n_neighbors=5 \nChargement du cluster depuis un préenregistrement pour SPECTRALCLUSTERING n_cluster=7 n_neighbors=6 \nChargement du cluster depuis un préenregistrement pour SPECTRALCLUSTERING n_cluster=7 n_neighbors=7 \nChargement du cluster depuis un préenregistrement pour SPECTRALCLUSTERING n_cluster=7 n_neighbors=8 \nChargement du cluster depuis un préenregistrement pour SPECTRALCLUSTERING n_cluster=7 n_neighbors=9 \nChargement du cluster depuis un préenregistrement pour SPECTRALCLUSTERING n_cluster=8 n_neighbors=5 \nChargement du cluster depuis un préenregistrement pour SPECTRALCLUSTERING n_cluster=8 n_neighbors=6 \nChargement du cluster depuis un préenregistrement pour SPECTRALCLUSTERING n_cluster=8 n_neighbors=7 \nChargement du cluster depuis un préenregistrement pour SPECTRALCLUSTERING n_cluster=8 n_neighbors=8 \nChargement du cluster depuis un préenregistrement pour SPECTRALCLUSTERING n_cluster=8 n_neighbors=9 \nChargement du cluster depuis un préenregistrement pour SPECTRALCLUSTERING n_cluster=9 n_neighbors=5 \n"
     ]
    },
    {
     "name": "stdout",
     "output_type": "stream",
     "text": [
      "Chargement du cluster depuis un préenregistrement pour SPECTRALCLUSTERING n_cluster=9 n_neighbors=6 \nChargement du cluster depuis un préenregistrement pour SPECTRALCLUSTERING n_cluster=9 n_neighbors=7 \nChargement du cluster depuis un préenregistrement pour SPECTRALCLUSTERING n_cluster=9 n_neighbors=8 \nChargement du cluster depuis un préenregistrement pour SPECTRALCLUSTERING n_cluster=9 n_neighbors=9 \nChargement du cluster depuis un préenregistrement pour SPECTRALCLUSTERING n_cluster=10 n_neighbors=5 \nChargement du cluster depuis un préenregistrement pour SPECTRALCLUSTERING n_cluster=10 n_neighbors=6 \nChargement du cluster depuis un préenregistrement pour SPECTRALCLUSTERING n_cluster=10 n_neighbors=7 \nChargement du cluster depuis un préenregistrement pour SPECTRALCLUSTERING n_cluster=10 n_neighbors=8 \nChargement du cluster depuis un préenregistrement pour SPECTRALCLUSTERING n_cluster=10 n_neighbors=9 \nChargement du cluster depuis un préenregistrement pour SPECTRALCLUSTERING n_cluster=11 n_neighbors=5 \nChargement du cluster depuis un préenregistrement pour SPECTRALCLUSTERING n_cluster=11 n_neighbors=6 \nChargement du cluster depuis un préenregistrement pour SPECTRALCLUSTERING n_cluster=11 n_neighbors=7 \nChargement du cluster depuis un préenregistrement pour SPECTRALCLUSTERING n_cluster=11 n_neighbors=8 \nChargement du cluster depuis un préenregistrement pour SPECTRALCLUSTERING n_cluster=11 n_neighbors=9 \nChargement du cluster depuis un préenregistrement pour SPECTRALCLUSTERING n_cluster=12 n_neighbors=5 \nChargement du cluster depuis un préenregistrement pour SPECTRALCLUSTERING n_cluster=12 n_neighbors=6 \n"
     ]
    },
    {
     "name": "stdout",
     "output_type": "stream",
     "text": [
      "Chargement du cluster depuis un préenregistrement pour SPECTRALCLUSTERING n_cluster=12 n_neighbors=7 \nChargement du cluster depuis un préenregistrement pour SPECTRALCLUSTERING n_cluster=12 n_neighbors=8 \nChargement du cluster depuis un préenregistrement pour SPECTRALCLUSTERING n_cluster=12 n_neighbors=9 \nChargement du cluster depuis un préenregistrement pour SPECTRALCLUSTERING n_cluster=13 n_neighbors=5 \nChargement du cluster depuis un préenregistrement pour SPECTRALCLUSTERING n_cluster=13 n_neighbors=6 \nChargement du cluster depuis un préenregistrement pour SPECTRALCLUSTERING n_cluster=13 n_neighbors=7 \nChargement du cluster depuis un préenregistrement pour SPECTRALCLUSTERING n_cluster=13 n_neighbors=8 \nChargement du cluster depuis un préenregistrement pour SPECTRALCLUSTERING n_cluster=13 n_neighbors=9 \nChargement du cluster depuis un préenregistrement pour SPECTRALCLUSTERING n_cluster=14 n_neighbors=5 \nChargement du cluster depuis un préenregistrement pour SPECTRALCLUSTERING n_cluster=14 n_neighbors=6 \nChargement du cluster depuis un préenregistrement pour SPECTRALCLUSTERING n_cluster=14 n_neighbors=7 \nChargement du cluster depuis un préenregistrement pour SPECTRALCLUSTERING n_cluster=14 n_neighbors=8 \nChargement du cluster depuis un préenregistrement pour SPECTRALCLUSTERING n_cluster=14 n_neighbors=9 \nChargement du cluster depuis un préenregistrement pour SPECTRALCLUSTERING n_cluster=15 n_neighbors=5 \nChargement du cluster depuis un préenregistrement pour SPECTRALCLUSTERING n_cluster=15 n_neighbors=6 \n"
     ]
    },
    {
     "name": "stdout",
     "output_type": "stream",
     "text": [
      "Chargement du cluster depuis un préenregistrement pour SPECTRALCLUSTERING n_cluster=15 n_neighbors=7 \nChargement du cluster depuis un préenregistrement pour SPECTRALCLUSTERING n_cluster=15 n_neighbors=8 \nChargement du cluster depuis un préenregistrement pour SPECTRALCLUSTERING n_cluster=15 n_neighbors=9 \nChargement du cluster depuis un préenregistrement pour SPECTRALCLUSTERING n_cluster=16 n_neighbors=5 \nChargement du cluster depuis un préenregistrement pour SPECTRALCLUSTERING n_cluster=16 n_neighbors=6 \nChargement du cluster depuis un préenregistrement pour SPECTRALCLUSTERING n_cluster=16 n_neighbors=7 \nChargement du cluster depuis un préenregistrement pour SPECTRALCLUSTERING n_cluster=16 n_neighbors=8 \nChargement du cluster depuis un préenregistrement pour SPECTRALCLUSTERING n_cluster=16 n_neighbors=9 \nChargement du cluster depuis un préenregistrement pour SPECTRALCLUSTERING n_cluster=17 n_neighbors=5 \nChargement du cluster depuis un préenregistrement pour SPECTRALCLUSTERING n_cluster=17 n_neighbors=6 \nChargement du cluster depuis un préenregistrement pour SPECTRALCLUSTERING n_cluster=17 n_neighbors=7 \nChargement du cluster depuis un préenregistrement pour SPECTRALCLUSTERING n_cluster=17 n_neighbors=8 \nChargement du cluster depuis un préenregistrement pour SPECTRALCLUSTERING n_cluster=17 n_neighbors=9 \nChargement du cluster depuis un préenregistrement pour SPECTRALCLUSTERING n_cluster=18 n_neighbors=5 \nChargement du cluster depuis un préenregistrement pour SPECTRALCLUSTERING n_cluster=18 n_neighbors=6 \nChargement du cluster depuis un préenregistrement pour SPECTRALCLUSTERING n_cluster=18 n_neighbors=7 \nChargement du cluster depuis un préenregistrement pour SPECTRALCLUSTERING n_cluster=18 n_neighbors=8 \n"
     ]
    },
    {
     "name": "stdout",
     "output_type": "stream",
     "text": [
      "Chargement du cluster depuis un préenregistrement pour SPECTRALCLUSTERING n_cluster=18 n_neighbors=9 \nChargement du cluster depuis un préenregistrement pour SPECTRALCLUSTERING n_cluster=19 n_neighbors=5 \nChargement du cluster depuis un préenregistrement pour SPECTRALCLUSTERING n_cluster=19 n_neighbors=6 \nChargement du cluster depuis un préenregistrement pour SPECTRALCLUSTERING n_cluster=19 n_neighbors=7 \nChargement du cluster depuis un préenregistrement pour SPECTRALCLUSTERING n_cluster=19 n_neighbors=8 \nChargement du cluster depuis un préenregistrement pour SPECTRALCLUSTERING n_cluster=19 n_neighbors=9 \n"
     ]
    }
   ],
   "source": [
    "s.execute(\"SPECTRALCLUSTERING\",\n",
    "            lambda x: cl.SpectralClustering(n_clusters=x[\"n_cluster\"],n_neighbors=x[\"n_neighbors\"]),\n",
    "            {\"n_cluster\": range(6,20), \"n_neighbors\": range(5,10)}\n",
    ")"
   ]
  },
  {
   "cell_type": "code",
   "execution_count": 8,
   "metadata": {},
   "outputs": [
    {
     "name": "stdout",
     "output_type": "stream",
     "text": [
      "Traitement de OPTICS ********************************************************************\nChargement du cluster depuis un préenregistrement pour OPTICS maxima_ratio=0.3 rejection_ratio=0.3 \nChargement du cluster depuis un préenregistrement pour OPTICS maxima_ratio=0.3 rejection_ratio=0.4 \nChargement du cluster depuis un préenregistrement pour OPTICS maxima_ratio=0.3 rejection_ratio=0.5 \nChargement du cluster depuis un préenregistrement pour OPTICS maxima_ratio=0.3 rejection_ratio=0.6 \nChargement du cluster depuis un préenregistrement pour OPTICS maxima_ratio=0.3 rejection_ratio=0.7 \nChargement du cluster depuis un préenregistrement pour OPTICS maxima_ratio=0.4 rejection_ratio=0.3 \nChargement du cluster depuis un préenregistrement pour OPTICS maxima_ratio=0.4 rejection_ratio=0.4 \nChargement du cluster depuis un préenregistrement pour OPTICS maxima_ratio=0.4 rejection_ratio=0.5 \nChargement du cluster depuis un préenregistrement pour OPTICS maxima_ratio=0.4 rejection_ratio=0.6 \nChargement du cluster depuis un préenregistrement pour OPTICS maxima_ratio=0.4 rejection_ratio=0.7 \nChargement du cluster depuis un préenregistrement pour OPTICS maxima_ratio=0.5 rejection_ratio=0.3 \nChargement du cluster depuis un préenregistrement pour OPTICS maxima_ratio=0.5 rejection_ratio=0.4 \nChargement du cluster depuis un préenregistrement pour OPTICS maxima_ratio=0.5 rejection_ratio=0.5 \nChargement du cluster depuis un préenregistrement pour OPTICS maxima_ratio=0.5 rejection_ratio=0.6 \nChargement du cluster depuis un préenregistrement pour OPTICS maxima_ratio=0.5 rejection_ratio=0.7 \nChargement du cluster depuis un préenregistrement pour OPTICS maxima_ratio=0.6 rejection_ratio=0.3 \n"
     ]
    },
    {
     "name": "stdout",
     "output_type": "stream",
     "text": [
      "Chargement du cluster depuis un préenregistrement pour OPTICS maxima_ratio=0.6 rejection_ratio=0.4 \nChargement du cluster depuis un préenregistrement pour OPTICS maxima_ratio=0.6 rejection_ratio=0.5 \nChargement du cluster depuis un préenregistrement pour OPTICS maxima_ratio=0.6 rejection_ratio=0.6 \nChargement du cluster depuis un préenregistrement pour OPTICS maxima_ratio=0.6 rejection_ratio=0.7 \nChargement du cluster depuis un préenregistrement pour OPTICS maxima_ratio=0.7 rejection_ratio=0.3 \nChargement du cluster depuis un préenregistrement pour OPTICS maxima_ratio=0.7 rejection_ratio=0.4 \nChargement du cluster depuis un préenregistrement pour OPTICS maxima_ratio=0.7 rejection_ratio=0.5 \nChargement du cluster depuis un préenregistrement pour OPTICS maxima_ratio=0.7 rejection_ratio=0.6 \nChargement du cluster depuis un préenregistrement pour OPTICS maxima_ratio=0.7 rejection_ratio=0.7 \nChargement du cluster depuis un préenregistrement pour OPTICS maxima_ratio=0.8 rejection_ratio=0.3 \nChargement du cluster depuis un préenregistrement pour OPTICS maxima_ratio=0.8 rejection_ratio=0.4 \nChargement du cluster depuis un préenregistrement pour OPTICS maxima_ratio=0.8 rejection_ratio=0.5 \nChargement du cluster depuis un préenregistrement pour OPTICS maxima_ratio=0.8 rejection_ratio=0.6 \nChargement du cluster depuis un préenregistrement pour OPTICS maxima_ratio=0.8 rejection_ratio=0.7 \n"
     ]
    },
    {
     "name": "stdout",
     "output_type": "stream",
     "text": [
      "Chargement du cluster depuis un préenregistrement pour OPTICS maxima_ratio=0.9 rejection_ratio=0.3 \nChargement du cluster depuis un préenregistrement pour OPTICS maxima_ratio=0.9 rejection_ratio=0.4 \nChargement du cluster depuis un préenregistrement pour OPTICS maxima_ratio=0.9 rejection_ratio=0.5 \nChargement du cluster depuis un préenregistrement pour OPTICS maxima_ratio=0.9 rejection_ratio=0.6 \nChargement du cluster depuis un préenregistrement pour OPTICS maxima_ratio=0.9 rejection_ratio=0.7 \n"
     ]
    }
   ],
   "source": [
    "s.execute(\"OPTICS\",\n",
    "            lambda x:\n",
    "                cl.OPTICS(maxima_ratio=x[\"maxima_ratio\"],\n",
    "                      rejection_ratio=x[\"rejection_ratio\"], min_samples=3,\n",
    "                      n_jobs=-1),\n",
    "    {\"maxima_ratio\": np.arange(0.3,0.9,0.1), \"rejection_ratio\": np.arange(0.3,0.8,0.1)}\n",
    ")"
   ]
  },
  {
   "cell_type": "markdown",
   "metadata": {},
   "source": [
    "Le code de traitement de \"Neural Gas\" est légérement différent car la forme du clustering qu'il retourne n'est pas structurellement identique aux algorithmes précédents."
   ]
  },
  {
   "cell_type": "code",
   "execution_count": 12,
   "metadata": {},
   "outputs": [
    {
     "name": "stdout",
     "output_type": "stream",
     "text": [
      "[--------------------------------------------------] 0.0% ...\r"
     ]
    },
    {
     "name": "stdout",
     "output_type": "stream",
     "text": [
      "[=====---------------------------------------------] 10.0% ...\r"
     ]
    },
    {
     "name": "stdout",
     "output_type": "stream",
     "text": [
      "[==========----------------------------------------] 20.0% ...\r"
     ]
    },
    {
     "name": "stdout",
     "output_type": "stream",
     "text": [
      "[===============-----------------------------------] 30.0% ...\r"
     ]
    },
    {
     "name": "stdout",
     "output_type": "stream",
     "text": [
      "[====================------------------------------] 40.0% ...\r"
     ]
    },
    {
     "name": "stdout",
     "output_type": "stream",
     "text": [
      "[=========================-------------------------] 50.0% ...\r"
     ]
    },
    {
     "name": "stdout",
     "output_type": "stream",
     "text": [
      "[==============================--------------------] 60.0% ...\r"
     ]
    },
    {
     "name": "stdout",
     "output_type": "stream",
     "text": [
      "[===================================---------------] 70.0% ...\r"
     ]
    },
    {
     "ename": "KeyboardInterrupt",
     "evalue": "",
     "traceback": [
      "\u001b[1;31m---------------------------------------------------------------------------\u001b[0m",
      "\u001b[1;31mKeyboardInterrupt\u001b[0m                         Traceback (most recent call last)",
      "\u001b[1;32m<ipython-input-12-125412194560>\u001b[0m in \u001b[0;36m<module>\u001b[1;34m\u001b[0m\n\u001b[0;32m      6\u001b[0m             \u001b[0mcopy\u001b[0m\u001b[1;33m.\u001b[0m\u001b[0mdeepcopy\u001b[0m\u001b[1;33m(\u001b[0m\u001b[0mref_mod\u001b[0m\u001b[1;33m)\u001b[0m\u001b[1;33m,\u001b[0m\u001b[1;33m\u001b[0m\u001b[0m\n\u001b[0;32m      7\u001b[0m             \u001b[0mpasses\u001b[0m\u001b[1;33m=\u001b[0m\u001b[0mpasses\u001b[0m\u001b[1;33m,\u001b[0m\u001b[1;33m\u001b[0m\u001b[0m\n\u001b[1;32m----> 8\u001b[1;33m             distance_toremove_edge=distance_toremove_edge)\n\u001b[0m\u001b[0;32m      9\u001b[0m         )\n\u001b[0;32m     10\u001b[0m \u001b[1;33m\u001b[0m\u001b[0m\n",
      "\u001b[1;32mC:\\Users\\hhoareau\\PycharmProjects\\clusterBench\\clusterBench\\algo.py\u001b[0m in \u001b[0;36mcreate_cluster_from_neuralgasnetwork\u001b[1;34m(model, a, passes, distance_toremove_edge)\u001b[0m\n\u001b[0;32m    297\u001b[0m                         \u001b[0mdistance_toremove_edge\u001b[0m\u001b[1;33m=\u001b[0m\u001b[0mdistance_toremove_edge\u001b[0m\u001b[1;33m,\u001b[0m\u001b[1;33m\u001b[0m\u001b[0m\n\u001b[0;32m    298\u001b[0m                         \u001b[0ml\u001b[0m\u001b[1;33m=\u001b[0m\u001b[1;36m100\u001b[0m\u001b[1;33m,\u001b[0m \u001b[0ma\u001b[0m\u001b[1;33m=\u001b[0m\u001b[1;36m0.5\u001b[0m\u001b[1;33m,\u001b[0m \u001b[0md\u001b[0m\u001b[1;33m=\u001b[0m\u001b[1;36m0.995\u001b[0m\u001b[1;33m,\u001b[0m\u001b[1;33m\u001b[0m\u001b[0m\n\u001b[1;32m--> 299\u001b[1;33m                         passes=passes, plot_evolution=False)\n\u001b[0m\u001b[0;32m    300\u001b[0m         \u001b[0mmodel\u001b[0m\u001b[1;33m.\u001b[0m\u001b[0mend_treatment\u001b[0m\u001b[1;33m(\u001b[0m\u001b[1;33m)\u001b[0m\u001b[1;33m\u001b[0m\u001b[0m\n\u001b[0;32m    301\u001b[0m         \u001b[0mprint\u001b[0m\u001b[1;33m(\u001b[0m\u001b[1;34m'Found %d clusters.'\u001b[0m \u001b[1;33m%\u001b[0m \u001b[0mgng\u001b[0m\u001b[1;33m.\u001b[0m\u001b[0mnumber_of_clusters\u001b[0m\u001b[1;33m(\u001b[0m\u001b[1;33m)\u001b[0m\u001b[1;33m)\u001b[0m\u001b[1;33m\u001b[0m\u001b[0m\n",
      "\u001b[1;32mC:\\Users\\hhoareau\\PycharmProjects\\clusterBench\\clusterBench\\gng.py\u001b[0m in \u001b[0;36mfit_network\u001b[1;34m(self, e_b, e_n, distance_toremove_edge, l, a, d, passes, plot_evolution)\u001b[0m\n\u001b[0;32m     69\u001b[0m         \u001b[0msequence\u001b[0m \u001b[1;33m=\u001b[0m \u001b[1;36m0\u001b[0m\u001b[1;33m\u001b[0m\u001b[0m\n\u001b[0;32m     70\u001b[0m         \u001b[1;32mfor\u001b[0m \u001b[0mp\u001b[0m \u001b[1;32min\u001b[0m \u001b[0mrange\u001b[0m\u001b[1;33m(\u001b[0m\u001b[0mpasses\u001b[0m\u001b[1;33m)\u001b[0m\u001b[1;33m:\u001b[0m\u001b[1;33m\u001b[0m\u001b[0m\n\u001b[1;32m---> 71\u001b[1;33m             \u001b[0mtools\u001b[0m\u001b[1;33m.\u001b[0m\u001b[0mprogress\u001b[0m\u001b[1;33m(\u001b[0m\u001b[0mp\u001b[0m\u001b[1;33m,\u001b[0m \u001b[0mpasses\u001b[0m\u001b[1;33m)\u001b[0m\u001b[1;33m\u001b[0m\u001b[0m\n\u001b[0m\u001b[0;32m     72\u001b[0m             \u001b[0mnp\u001b[0m\u001b[1;33m.\u001b[0m\u001b[0mrandom\u001b[0m\u001b[1;33m.\u001b[0m\u001b[0mshuffle\u001b[0m\u001b[1;33m(\u001b[0m\u001b[0mself\u001b[0m\u001b[1;33m.\u001b[0m\u001b[0mdata\u001b[0m\u001b[1;33m)\u001b[0m\u001b[1;33m\u001b[0m\u001b[0m\n\u001b[0;32m     73\u001b[0m             \u001b[0msteps\u001b[0m \u001b[1;33m=\u001b[0m \u001b[1;36m0\u001b[0m\u001b[1;33m\u001b[0m\u001b[0m\n",
      "\u001b[1;32mC:\\Users\\hhoareau\\PycharmProjects\\clusterBench\\clusterBench\\tools.py\u001b[0m in \u001b[0;36mprogress\u001b[1;34m(count, total, suffix)\u001b[0m\n\u001b[0;32m     11\u001b[0m     \u001b[0mpercents\u001b[0m \u001b[1;33m=\u001b[0m \u001b[0mround\u001b[0m\u001b[1;33m(\u001b[0m\u001b[1;36m100.0\u001b[0m \u001b[1;33m*\u001b[0m \u001b[0mcount\u001b[0m \u001b[1;33m/\u001b[0m \u001b[0mfloat\u001b[0m\u001b[1;33m(\u001b[0m\u001b[0mtotal\u001b[0m\u001b[1;33m)\u001b[0m\u001b[1;33m,\u001b[0m \u001b[1;36m1\u001b[0m\u001b[1;33m)\u001b[0m\u001b[1;33m\u001b[0m\u001b[0m\n\u001b[0;32m     12\u001b[0m     \u001b[0mbar\u001b[0m \u001b[1;33m=\u001b[0m \u001b[1;34m'='\u001b[0m \u001b[1;33m*\u001b[0m \u001b[0mfilled_len\u001b[0m \u001b[1;33m+\u001b[0m \u001b[1;34m'-'\u001b[0m \u001b[1;33m*\u001b[0m \u001b[1;33m(\u001b[0m\u001b[0mbar_len\u001b[0m \u001b[1;33m-\u001b[0m \u001b[0mfilled_len\u001b[0m\u001b[1;33m)\u001b[0m\u001b[1;33m\u001b[0m\u001b[0m\n\u001b[1;32m---> 13\u001b[1;33m     \u001b[0msys\u001b[0m\u001b[1;33m.\u001b[0m\u001b[0mstdout\u001b[0m\u001b[1;33m.\u001b[0m\u001b[0mwrite\u001b[0m\u001b[1;33m(\u001b[0m\u001b[1;34m'[%s] %s%s ...%s\\r'\u001b[0m \u001b[1;33m%\u001b[0m \u001b[1;33m(\u001b[0m\u001b[0mbar\u001b[0m\u001b[1;33m,\u001b[0m \u001b[0mpercents\u001b[0m\u001b[1;33m,\u001b[0m \u001b[1;34m'%'\u001b[0m\u001b[1;33m,\u001b[0m \u001b[0msuffix\u001b[0m\u001b[1;33m)\u001b[0m\u001b[1;33m)\u001b[0m\u001b[1;33m\u001b[0m\u001b[0m\n\u001b[0m\u001b[0;32m     14\u001b[0m     \u001b[0msys\u001b[0m\u001b[1;33m.\u001b[0m\u001b[0mstdout\u001b[0m\u001b[1;33m.\u001b[0m\u001b[0mflush\u001b[0m\u001b[1;33m(\u001b[0m\u001b[1;33m)\u001b[0m  \u001b[1;31m# As suggested by Rom Ruben\u001b[0m\u001b[1;33m\u001b[0m\u001b[0m\n\u001b[0;32m     15\u001b[0m \u001b[1;33m\u001b[0m\u001b[0m\n",
      "\u001b[1;32mC:\\ProgramData\\Miniconda3\\envs\\clusterBench\\lib\\site-packages\\ipykernel\\iostream.py\u001b[0m in \u001b[0;36mwrite\u001b[1;34m(self, string)\u001b[0m\n\u001b[0;32m    398\u001b[0m             \u001b[0mis_child\u001b[0m \u001b[1;33m=\u001b[0m \u001b[1;33m(\u001b[0m\u001b[1;32mnot\u001b[0m \u001b[0mself\u001b[0m\u001b[1;33m.\u001b[0m\u001b[0m_is_master_process\u001b[0m\u001b[1;33m(\u001b[0m\u001b[1;33m)\u001b[0m\u001b[1;33m)\u001b[0m\u001b[1;33m\u001b[0m\u001b[0m\n\u001b[0;32m    399\u001b[0m             \u001b[1;31m# only touch the buffer in the IO thread to avoid races\u001b[0m\u001b[1;33m\u001b[0m\u001b[1;33m\u001b[0m\u001b[0m\n\u001b[1;32m--> 400\u001b[1;33m             \u001b[0mself\u001b[0m\u001b[1;33m.\u001b[0m\u001b[0mpub_thread\u001b[0m\u001b[1;33m.\u001b[0m\u001b[0mschedule\u001b[0m\u001b[1;33m(\u001b[0m\u001b[1;32mlambda\u001b[0m \u001b[1;33m:\u001b[0m \u001b[0mself\u001b[0m\u001b[1;33m.\u001b[0m\u001b[0m_buffer\u001b[0m\u001b[1;33m.\u001b[0m\u001b[0mwrite\u001b[0m\u001b[1;33m(\u001b[0m\u001b[0mstring\u001b[0m\u001b[1;33m)\u001b[0m\u001b[1;33m)\u001b[0m\u001b[1;33m\u001b[0m\u001b[0m\n\u001b[0m\u001b[0;32m    401\u001b[0m             \u001b[1;32mif\u001b[0m \u001b[0mis_child\u001b[0m\u001b[1;33m:\u001b[0m\u001b[1;33m\u001b[0m\u001b[0m\n\u001b[0;32m    402\u001b[0m                 \u001b[1;31m# newlines imply flush in subprocesses\u001b[0m\u001b[1;33m\u001b[0m\u001b[1;33m\u001b[0m\u001b[0m\n",
      "\u001b[1;32mC:\\ProgramData\\Miniconda3\\envs\\clusterBench\\lib\\site-packages\\ipykernel\\iostream.py\u001b[0m in \u001b[0;36mschedule\u001b[1;34m(self, f)\u001b[0m\n\u001b[0;32m    201\u001b[0m             \u001b[0mself\u001b[0m\u001b[1;33m.\u001b[0m\u001b[0m_events\u001b[0m\u001b[1;33m.\u001b[0m\u001b[0mappend\u001b[0m\u001b[1;33m(\u001b[0m\u001b[0mf\u001b[0m\u001b[1;33m)\u001b[0m\u001b[1;33m\u001b[0m\u001b[0m\n\u001b[0;32m    202\u001b[0m             \u001b[1;31m# wake event thread (message content is ignored)\u001b[0m\u001b[1;33m\u001b[0m\u001b[1;33m\u001b[0m\u001b[0m\n\u001b[1;32m--> 203\u001b[1;33m             \u001b[0mself\u001b[0m\u001b[1;33m.\u001b[0m\u001b[0m_event_pipe\u001b[0m\u001b[1;33m.\u001b[0m\u001b[0msend\u001b[0m\u001b[1;33m(\u001b[0m\u001b[1;34mb''\u001b[0m\u001b[1;33m)\u001b[0m\u001b[1;33m\u001b[0m\u001b[0m\n\u001b[0m\u001b[0;32m    204\u001b[0m         \u001b[1;32melse\u001b[0m\u001b[1;33m:\u001b[0m\u001b[1;33m\u001b[0m\u001b[0m\n\u001b[0;32m    205\u001b[0m             \u001b[0mf\u001b[0m\u001b[1;33m(\u001b[0m\u001b[1;33m)\u001b[0m\u001b[1;33m\u001b[0m\u001b[0m\n",
      "\u001b[1;32mC:\\ProgramData\\Miniconda3\\envs\\clusterBench\\lib\\site-packages\\zmq\\sugar\\socket.py\u001b[0m in \u001b[0;36msend\u001b[1;34m(self, data, flags, copy, track, routing_id, group)\u001b[0m\n\u001b[0;32m    390\u001b[0m                                  copy_threshold=self.copy_threshold)\n\u001b[0;32m    391\u001b[0m             \u001b[0mdata\u001b[0m\u001b[1;33m.\u001b[0m\u001b[0mgroup\u001b[0m \u001b[1;33m=\u001b[0m \u001b[0mgroup\u001b[0m\u001b[1;33m\u001b[0m\u001b[0m\n\u001b[1;32m--> 392\u001b[1;33m         \u001b[1;32mreturn\u001b[0m \u001b[0msuper\u001b[0m\u001b[1;33m(\u001b[0m\u001b[0mSocket\u001b[0m\u001b[1;33m,\u001b[0m \u001b[0mself\u001b[0m\u001b[1;33m)\u001b[0m\u001b[1;33m.\u001b[0m\u001b[0msend\u001b[0m\u001b[1;33m(\u001b[0m\u001b[0mdata\u001b[0m\u001b[1;33m,\u001b[0m \u001b[0mflags\u001b[0m\u001b[1;33m=\u001b[0m\u001b[0mflags\u001b[0m\u001b[1;33m,\u001b[0m \u001b[0mcopy\u001b[0m\u001b[1;33m=\u001b[0m\u001b[0mcopy\u001b[0m\u001b[1;33m,\u001b[0m \u001b[0mtrack\u001b[0m\u001b[1;33m=\u001b[0m\u001b[0mtrack\u001b[0m\u001b[1;33m)\u001b[0m\u001b[1;33m\u001b[0m\u001b[0m\n\u001b[0m\u001b[0;32m    393\u001b[0m \u001b[1;33m\u001b[0m\u001b[0m\n\u001b[0;32m    394\u001b[0m     \u001b[1;32mdef\u001b[0m \u001b[0msend_multipart\u001b[0m\u001b[1;33m(\u001b[0m\u001b[0mself\u001b[0m\u001b[1;33m,\u001b[0m \u001b[0mmsg_parts\u001b[0m\u001b[1;33m,\u001b[0m \u001b[0mflags\u001b[0m\u001b[1;33m=\u001b[0m\u001b[1;36m0\u001b[0m\u001b[1;33m,\u001b[0m \u001b[0mcopy\u001b[0m\u001b[1;33m=\u001b[0m\u001b[1;32mTrue\u001b[0m\u001b[1;33m,\u001b[0m \u001b[0mtrack\u001b[0m\u001b[1;33m=\u001b[0m\u001b[1;32mFalse\u001b[0m\u001b[1;33m,\u001b[0m \u001b[1;33m**\u001b[0m\u001b[0mkwargs\u001b[0m\u001b[1;33m)\u001b[0m\u001b[1;33m:\u001b[0m\u001b[1;33m\u001b[0m\u001b[0m\n",
      "\u001b[1;32mzmq\\backend\\cython\\socket.pyx\u001b[0m in \u001b[0;36mzmq.backend.cython.socket.Socket.send\u001b[1;34m()\u001b[0m\n",
      "\u001b[1;32mzmq\\backend\\cython\\socket.pyx\u001b[0m in \u001b[0;36mzmq.backend.cython.socket.Socket.send\u001b[1;34m()\u001b[0m\n",
      "\u001b[1;32mzmq\\backend\\cython\\socket.pyx\u001b[0m in \u001b[0;36mzmq.backend.cython.socket._send_copy\u001b[1;34m()\u001b[0m\n",
      "\u001b[1;32mC:\\ProgramData\\Miniconda3\\envs\\clusterBench\\lib\\site-packages\\zmq\\backend\\cython\\checkrc.pxd\u001b[0m in \u001b[0;36mzmq.backend.cython.checkrc._check_rc\u001b[1;34m()\u001b[0m\n",
      "\u001b[1;31mKeyboardInterrupt\u001b[0m: "
     ],
     "output_type": "error"
    }
   ],
   "source": [
    "import copy\n",
    "import algo\n",
    "for passes in range(10,90,20):\n",
    "    for distance_toremove_edge in range(6,38,4):\n",
    "        s.append_modeles(algo.create_cluster_from_neuralgasnetwork(\n",
    "            copy.deepcopy(ref_mod),\n",
    "            passes=passes,\n",
    "            distance_toremove_edge=distance_toremove_edge)\n",
    "        )\n",
    "\n"
   ]
  },
  {
   "cell_type": "markdown",
   "metadata": {},
   "source": [
    "l'ensemble des modèles ont été éxécuté. Tous les clusters sont conservés dans la simulation. On peut calculer sur chaqu'un des modèles un ensemble de métriques pour évaluer la pertinance du clustering. \n",
    "\n",
    "<p>On utilise le <strong>modele de référence</strong> pour calculer certains indicateurs</p>"
   ]
  },
  {
   "cell_type": "code",
   "execution_count": 14,
   "metadata": {},
   "outputs": [
    {
     "name": "stdout",
     "output_type": "stream",
     "text": [
      "[--------------------------------------------------] 0.0% ...\r"
     ]
    },
    {
     "name": "stdout",
     "output_type": "stream",
     "text": [
      "[--------------------------------------------------] 0.6% ...\r"
     ]
    },
    {
     "name": "stdout",
     "output_type": "stream",
     "text": [
      "[=-------------------------------------------------] 1.1% ...\r"
     ]
    },
    {
     "name": "stdout",
     "output_type": "stream",
     "text": [
      "[=-------------------------------------------------] 1.7% ...\r"
     ]
    },
    {
     "name": "stdout",
     "output_type": "stream",
     "text": [
      "[=-------------------------------------------------] 2.2% ...\r"
     ]
    },
    {
     "name": "stdout",
     "output_type": "stream",
     "text": [
      "[=-------------------------------------------------] 2.8% ...\r"
     ]
    },
    {
     "name": "stdout",
     "output_type": "stream",
     "text": [
      "[==------------------------------------------------] 3.3% ...\r"
     ]
    },
    {
     "name": "stdout",
     "output_type": "stream",
     "text": [
      "[==------------------------------------------------] 3.9% ...\r"
     ]
    },
    {
     "name": "stdout",
     "output_type": "stream",
     "text": [
      "[==------------------------------------------------] 4.4% ...\r"
     ]
    },
    {
     "name": "stdout",
     "output_type": "stream",
     "text": [
      "[==------------------------------------------------] 5.0% ...\r"
     ]
    },
    {
     "name": "stdout",
     "output_type": "stream",
     "text": [
      "[===-----------------------------------------------] 5.5% ...\r"
     ]
    },
    {
     "name": "stdout",
     "output_type": "stream",
     "text": [
      "[===-----------------------------------------------] 6.1% ...\r"
     ]
    },
    {
     "name": "stdout",
     "output_type": "stream",
     "text": [
      "[===-----------------------------------------------] 6.6% ...\r"
     ]
    },
    {
     "name": "stdout",
     "output_type": "stream",
     "text": [
      "[====----------------------------------------------] 7.2% ...\r"
     ]
    },
    {
     "name": "stdout",
     "output_type": "stream",
     "text": [
      "[====----------------------------------------------] 7.7% ...\r"
     ]
    },
    {
     "name": "stdout",
     "output_type": "stream",
     "text": [
      "[====----------------------------------------------] 8.3% ...\r"
     ]
    },
    {
     "name": "stdout",
     "output_type": "stream",
     "text": [
      "[====----------------------------------------------] 8.8% ...\r"
     ]
    },
    {
     "name": "stdout",
     "output_type": "stream",
     "text": [
      "[=====---------------------------------------------] 9.4% ...\r"
     ]
    },
    {
     "name": "stdout",
     "output_type": "stream",
     "text": [
      "[=====---------------------------------------------] 9.9% ...\r"
     ]
    },
    {
     "name": "stdout",
     "output_type": "stream",
     "text": [
      "[=====---------------------------------------------] 10.5% ...\r"
     ]
    },
    {
     "name": "stdout",
     "output_type": "stream",
     "text": [
      "[======--------------------------------------------] 11.0% ...\r"
     ]
    },
    {
     "name": "stdout",
     "output_type": "stream",
     "text": [
      "[======--------------------------------------------] 11.6% ...\r"
     ]
    },
    {
     "name": "stdout",
     "output_type": "stream",
     "text": [
      "[======--------------------------------------------] 12.2% ...\r"
     ]
    },
    {
     "name": "stdout",
     "output_type": "stream",
     "text": [
      "[======--------------------------------------------] 12.7% ...\r"
     ]
    },
    {
     "name": "stdout",
     "output_type": "stream",
     "text": [
      "[=======-------------------------------------------] 13.3% ...\r"
     ]
    },
    {
     "name": "stdout",
     "output_type": "stream",
     "text": [
      "[=======-------------------------------------------] 13.8% ...\r"
     ]
    },
    {
     "name": "stdout",
     "output_type": "stream",
     "text": [
      "[=======-------------------------------------------] 14.4% ...\r"
     ]
    },
    {
     "name": "stdout",
     "output_type": "stream",
     "text": [
      "[=======-------------------------------------------] 14.9% ...\r"
     ]
    },
    {
     "name": "stdout",
     "output_type": "stream",
     "text": [
      "[========------------------------------------------] 15.5% ...\r"
     ]
    },
    {
     "name": "stdout",
     "output_type": "stream",
     "text": [
      "[========------------------------------------------] 16.0% ...\r"
     ]
    },
    {
     "name": "stdout",
     "output_type": "stream",
     "text": [
      "[========------------------------------------------] 16.6% ...\r"
     ]
    },
    {
     "name": "stdout",
     "output_type": "stream",
     "text": [
      "[=========-----------------------------------------] 17.1% ...\r"
     ]
    },
    {
     "name": "stdout",
     "output_type": "stream",
     "text": [
      "[=========-----------------------------------------] 17.7% ...\r"
     ]
    },
    {
     "name": "stdout",
     "output_type": "stream",
     "text": [
      "[=========-----------------------------------------] 18.2% ...\r"
     ]
    },
    {
     "name": "stdout",
     "output_type": "stream",
     "text": [
      "[=========-----------------------------------------] 18.8% ...\r"
     ]
    },
    {
     "name": "stdout",
     "output_type": "stream",
     "text": [
      "[==========----------------------------------------] 19.3% ...\r"
     ]
    },
    {
     "name": "stdout",
     "output_type": "stream",
     "text": [
      "[==========----------------------------------------] 19.9% ...\r"
     ]
    },
    {
     "name": "stdout",
     "output_type": "stream",
     "text": [
      "[==========----------------------------------------] 20.4% ...\r"
     ]
    },
    {
     "name": "stdout",
     "output_type": "stream",
     "text": [
      "[==========----------------------------------------] 21.0% ...\r"
     ]
    },
    {
     "name": "stdout",
     "output_type": "stream",
     "text": [
      "[===========---------------------------------------] 21.5% ...\r"
     ]
    },
    {
     "name": "stdout",
     "output_type": "stream",
     "text": [
      "[===========---------------------------------------] 22.1% ...\r"
     ]
    },
    {
     "name": "stdout",
     "output_type": "stream",
     "text": [
      "[===========---------------------------------------] 22.7% ...\r"
     ]
    },
    {
     "name": "stdout",
     "output_type": "stream",
     "text": [
      "[============--------------------------------------] 23.2% ...\r"
     ]
    },
    {
     "name": "stdout",
     "output_type": "stream",
     "text": [
      "[============--------------------------------------] 23.8% ...\r"
     ]
    },
    {
     "name": "stdout",
     "output_type": "stream",
     "text": [
      "[============--------------------------------------] 24.3% ...\r"
     ]
    },
    {
     "name": "stdout",
     "output_type": "stream",
     "text": [
      "[============--------------------------------------] 24.9% ...\r"
     ]
    },
    {
     "name": "stdout",
     "output_type": "stream",
     "text": [
      "[=============-------------------------------------] 25.4% ...\r"
     ]
    },
    {
     "name": "stdout",
     "output_type": "stream",
     "text": [
      "[=============-------------------------------------] 26.0% ...\r"
     ]
    },
    {
     "name": "stdout",
     "output_type": "stream",
     "text": [
      "[=============-------------------------------------] 26.5% ...\r"
     ]
    },
    {
     "name": "stdout",
     "output_type": "stream",
     "text": [
      "[==============------------------------------------] 27.1% ...\r"
     ]
    },
    {
     "name": "stdout",
     "output_type": "stream",
     "text": [
      "[==============------------------------------------] 27.6% ...\r"
     ]
    },
    {
     "name": "stdout",
     "output_type": "stream",
     "text": [
      "[==============------------------------------------] 28.2% ...\r"
     ]
    },
    {
     "name": "stdout",
     "output_type": "stream",
     "text": [
      "[==============------------------------------------] 28.7% ...\r"
     ]
    },
    {
     "name": "stdout",
     "output_type": "stream",
     "text": [
      "[===============-----------------------------------] 29.3% ...\r"
     ]
    },
    {
     "name": "stdout",
     "output_type": "stream",
     "text": [
      "[===============-----------------------------------] 29.8% ...\r"
     ]
    },
    {
     "name": "stdout",
     "output_type": "stream",
     "text": [
      "[===============-----------------------------------] 30.4% ...\r"
     ]
    },
    {
     "name": "stdout",
     "output_type": "stream",
     "text": [
      "[===============-----------------------------------] 30.9% ...\r"
     ]
    },
    {
     "name": "stdout",
     "output_type": "stream",
     "text": [
      "[================----------------------------------] 31.5% ...\r"
     ]
    },
    {
     "name": "stdout",
     "output_type": "stream",
     "text": [
      "[================----------------------------------] 32.0% ...\r"
     ]
    },
    {
     "name": "stdout",
     "output_type": "stream",
     "text": [
      "[================----------------------------------] 32.6% ...\r"
     ]
    },
    {
     "name": "stdout",
     "output_type": "stream",
     "text": [
      "[=================---------------------------------] 33.1% ...\r"
     ]
    },
    {
     "name": "stdout",
     "output_type": "stream",
     "text": [
      "[=================---------------------------------] 33.7% ...\r"
     ]
    },
    {
     "name": "stdout",
     "output_type": "stream",
     "text": [
      "[=================---------------------------------] 34.3% ...\r"
     ]
    },
    {
     "name": "stdout",
     "output_type": "stream",
     "text": [
      "[=================---------------------------------] 34.8% ...\r"
     ]
    },
    {
     "name": "stdout",
     "output_type": "stream",
     "text": [
      "[==================--------------------------------] 35.4% ...\r"
     ]
    },
    {
     "name": "stdout",
     "output_type": "stream",
     "text": [
      "[==================--------------------------------] 35.9% ...\r"
     ]
    },
    {
     "name": "stdout",
     "output_type": "stream",
     "text": [
      "[==================--------------------------------] 36.5% ...\r"
     ]
    },
    {
     "name": "stdout",
     "output_type": "stream",
     "text": [
      "[===================-------------------------------] 37.0% ...\r"
     ]
    },
    {
     "name": "stdout",
     "output_type": "stream",
     "text": [
      "[===================-------------------------------] 37.6% ...\r"
     ]
    },
    {
     "name": "stdout",
     "output_type": "stream",
     "text": [
      "[===================-------------------------------] 38.1% ...\r"
     ]
    },
    {
     "name": "stdout",
     "output_type": "stream",
     "text": [
      "[===================-------------------------------] 38.7% ...\r"
     ]
    },
    {
     "name": "stdout",
     "output_type": "stream",
     "text": [
      "[====================------------------------------] 39.2% ...\r"
     ]
    },
    {
     "name": "stdout",
     "output_type": "stream",
     "text": [
      "[====================------------------------------] 39.8% ...\r"
     ]
    },
    {
     "name": "stdout",
     "output_type": "stream",
     "text": [
      "[====================------------------------------] 40.3% ...\r"
     ]
    },
    {
     "name": "stdout",
     "output_type": "stream",
     "text": [
      "[====================------------------------------] 40.9% ...\r"
     ]
    },
    {
     "name": "stdout",
     "output_type": "stream",
     "text": [
      "[=====================-----------------------------] 41.4% ...\r"
     ]
    },
    {
     "name": "stdout",
     "output_type": "stream",
     "text": [
      "[=====================-----------------------------] 42.0% ...\r"
     ]
    },
    {
     "name": "stdout",
     "output_type": "stream",
     "text": [
      "[=====================-----------------------------] 42.5% ...\r"
     ]
    },
    {
     "name": "stdout",
     "output_type": "stream",
     "text": [
      "[======================----------------------------] 43.1% ...\r"
     ]
    },
    {
     "name": "stdout",
     "output_type": "stream",
     "text": [
      "[======================----------------------------] 43.6% ...\r"
     ]
    },
    {
     "name": "stdout",
     "output_type": "stream",
     "text": [
      "[======================----------------------------] 44.2% ...\r"
     ]
    },
    {
     "name": "stdout",
     "output_type": "stream",
     "text": [
      "[======================----------------------------] 44.8% ...\r"
     ]
    },
    {
     "name": "stdout",
     "output_type": "stream",
     "text": [
      "[=======================---------------------------] 45.3% ...\r"
     ]
    },
    {
     "name": "stdout",
     "output_type": "stream",
     "text": [
      "[=======================---------------------------] 45.9% ...\r"
     ]
    },
    {
     "name": "stdout",
     "output_type": "stream",
     "text": [
      "[=======================---------------------------] 46.4% ...\r"
     ]
    },
    {
     "name": "stdout",
     "output_type": "stream",
     "text": [
      "[=======================---------------------------] 47.0% ...\r"
     ]
    },
    {
     "name": "stdout",
     "output_type": "stream",
     "text": [
      "[========================--------------------------] 47.5% ...\r"
     ]
    },
    {
     "name": "stdout",
     "output_type": "stream",
     "text": [
      "[========================--------------------------] 48.1% ...\r"
     ]
    },
    {
     "name": "stdout",
     "output_type": "stream",
     "text": [
      "[========================--------------------------] 48.6% ...\r"
     ]
    },
    {
     "name": "stdout",
     "output_type": "stream",
     "text": [
      "[=========================-------------------------] 49.2% ...\r"
     ]
    },
    {
     "name": "stdout",
     "output_type": "stream",
     "text": [
      "[=========================-------------------------] 49.7% ...\r"
     ]
    },
    {
     "name": "stdout",
     "output_type": "stream",
     "text": [
      "[=========================-------------------------] 50.3% ...\r"
     ]
    },
    {
     "name": "stdout",
     "output_type": "stream",
     "text": [
      "[=========================-------------------------] 50.8% ...\r"
     ]
    },
    {
     "name": "stdout",
     "output_type": "stream",
     "text": [
      "[==========================------------------------] 51.4% ...\r"
     ]
    },
    {
     "name": "stdout",
     "output_type": "stream",
     "text": [
      "[==========================------------------------] 51.9% ...\r"
     ]
    },
    {
     "name": "stdout",
     "output_type": "stream",
     "text": [
      "[==========================------------------------] 52.5% ...\r"
     ]
    },
    {
     "name": "stdout",
     "output_type": "stream",
     "text": [
      "[===========================-----------------------] 53.0% ...\r"
     ]
    },
    {
     "name": "stdout",
     "output_type": "stream",
     "text": [
      "[===========================-----------------------] 53.6% ...\r"
     ]
    },
    {
     "name": "stdout",
     "output_type": "stream",
     "text": [
      "[===========================-----------------------] 54.1% ...\r"
     ]
    },
    {
     "name": "stdout",
     "output_type": "stream",
     "text": [
      "[===========================-----------------------] 54.7% ...\r"
     ]
    },
    {
     "name": "stdout",
     "output_type": "stream",
     "text": [
      "[============================----------------------] 55.2% ...\r"
     ]
    },
    {
     "name": "stdout",
     "output_type": "stream",
     "text": [
      "[============================----------------------] 55.8% ...\r"
     ]
    },
    {
     "name": "stdout",
     "output_type": "stream",
     "text": [
      "[============================----------------------] 56.4% ...\r"
     ]
    },
    {
     "name": "stdout",
     "output_type": "stream",
     "text": [
      "[============================----------------------] 56.9% ...\r"
     ]
    },
    {
     "name": "stdout",
     "output_type": "stream",
     "text": [
      "[=============================---------------------] 57.5% ...\r"
     ]
    },
    {
     "name": "stdout",
     "output_type": "stream",
     "text": [
      "[=============================---------------------] 58.0% ...\r"
     ]
    },
    {
     "name": "stdout",
     "output_type": "stream",
     "text": [
      "[=============================---------------------] 58.6% ...\r"
     ]
    },
    {
     "name": "stdout",
     "output_type": "stream",
     "text": [
      "[==============================--------------------] 59.1% ...\r"
     ]
    },
    {
     "name": "stdout",
     "output_type": "stream",
     "text": [
      "[==============================--------------------] 59.7% ...\r"
     ]
    },
    {
     "name": "stdout",
     "output_type": "stream",
     "text": [
      "[==============================--------------------] 60.2% ...\r"
     ]
    },
    {
     "name": "stdout",
     "output_type": "stream",
     "text": [
      "[==============================--------------------] 60.8% ...\r"
     ]
    },
    {
     "name": "stdout",
     "output_type": "stream",
     "text": [
      "[===============================-------------------] 61.3% ...\r"
     ]
    },
    {
     "name": "stdout",
     "output_type": "stream",
     "text": [
      "[===============================-------------------] 61.9% ...\r"
     ]
    },
    {
     "name": "stdout",
     "output_type": "stream",
     "text": [
      "[===============================-------------------] 62.4% ...\r"
     ]
    },
    {
     "name": "stdout",
     "output_type": "stream",
     "text": [
      "[===============================-------------------] 63.0% ...\r"
     ]
    },
    {
     "name": "stdout",
     "output_type": "stream",
     "text": [
      "[================================------------------] 63.5% ...\r"
     ]
    },
    {
     "name": "stdout",
     "output_type": "stream",
     "text": [
      "[================================------------------] 64.1% ...\r"
     ]
    },
    {
     "name": "stdout",
     "output_type": "stream",
     "text": [
      "[================================------------------] 64.6% ...\r"
     ]
    },
    {
     "name": "stdout",
     "output_type": "stream",
     "text": [
      "[=================================-----------------] 65.2% ...\r"
     ]
    },
    {
     "name": "stdout",
     "output_type": "stream",
     "text": [
      "[=================================-----------------] 65.7% ...\r"
     ]
    },
    {
     "name": "stdout",
     "output_type": "stream",
     "text": [
      "[=================================-----------------] 66.3% ...\r"
     ]
    },
    {
     "name": "stdout",
     "output_type": "stream",
     "text": [
      "[=================================-----------------] 66.9% ...\r"
     ]
    },
    {
     "name": "stdout",
     "output_type": "stream",
     "text": [
      "[==================================----------------] 67.4% ...\r"
     ]
    },
    {
     "name": "stdout",
     "output_type": "stream",
     "text": [
      "[==================================----------------] 68.0% ...\r"
     ]
    },
    {
     "name": "stdout",
     "output_type": "stream",
     "text": [
      "[==================================----------------] 68.5% ...\r"
     ]
    },
    {
     "name": "stdout",
     "output_type": "stream",
     "text": [
      "[===================================---------------] 69.1% ...\r"
     ]
    },
    {
     "name": "stdout",
     "output_type": "stream",
     "text": [
      "[===================================---------------] 69.6% ...\r"
     ]
    },
    {
     "name": "stdout",
     "output_type": "stream",
     "text": [
      "[===================================---------------] 70.2% ...\r"
     ]
    },
    {
     "name": "stdout",
     "output_type": "stream",
     "text": [
      "[===================================---------------] 70.7% ...\r"
     ]
    },
    {
     "name": "stdout",
     "output_type": "stream",
     "text": [
      "[====================================--------------] 71.3% ...\r"
     ]
    },
    {
     "name": "stdout",
     "output_type": "stream",
     "text": [
      "[====================================--------------] 71.8% ...\r"
     ]
    },
    {
     "name": "stdout",
     "output_type": "stream",
     "text": [
      "[====================================--------------] 72.4% ...\r"
     ]
    },
    {
     "name": "stdout",
     "output_type": "stream",
     "text": [
      "[====================================--------------] 72.9% ...\r"
     ]
    },
    {
     "name": "stdout",
     "output_type": "stream",
     "text": [
      "[=====================================-------------] 73.5% ...\r"
     ]
    },
    {
     "name": "stdout",
     "output_type": "stream",
     "text": [
      "[=====================================-------------] 74.0% ...\r"
     ]
    },
    {
     "name": "stdout",
     "output_type": "stream",
     "text": [
      "[=====================================-------------] 74.6% ...\r"
     ]
    },
    {
     "name": "stdout",
     "output_type": "stream",
     "text": [
      "[======================================------------] 75.1% ...\r"
     ]
    },
    {
     "name": "stdout",
     "output_type": "stream",
     "text": [
      "[======================================------------] 75.7% ...\r"
     ]
    },
    {
     "name": "stdout",
     "output_type": "stream",
     "text": [
      "[======================================------------] 76.2% ...\r"
     ]
    },
    {
     "name": "stdout",
     "output_type": "stream",
     "text": [
      "[======================================------------] 76.8% ...\r"
     ]
    },
    {
     "name": "stdout",
     "output_type": "stream",
     "text": [
      "[=======================================-----------] 77.3% ...\r"
     ]
    },
    {
     "name": "stdout",
     "output_type": "stream",
     "text": [
      "[=======================================-----------] 77.9% ...\r"
     ]
    },
    {
     "name": "stdout",
     "output_type": "stream",
     "text": [
      "[=======================================-----------] 78.5% ...\r"
     ]
    },
    {
     "name": "stdout",
     "output_type": "stream",
     "text": [
      "[========================================----------] 79.0% ...\r"
     ]
    },
    {
     "name": "stdout",
     "output_type": "stream",
     "text": [
      "[========================================----------] 79.6% ...\r"
     ]
    },
    {
     "name": "stdout",
     "output_type": "stream",
     "text": [
      "[========================================----------] 80.1% ...\r"
     ]
    },
    {
     "name": "stdout",
     "output_type": "stream",
     "text": [
      "[========================================----------] 80.7% ...\r"
     ]
    },
    {
     "name": "stdout",
     "output_type": "stream",
     "text": [
      "[=========================================---------] 81.2% ...\r"
     ]
    },
    {
     "name": "stdout",
     "output_type": "stream",
     "text": [
      "[=========================================---------] 81.8% ...\r"
     ]
    },
    {
     "name": "stdout",
     "output_type": "stream",
     "text": [
      "[=========================================---------] 82.3% ...\r"
     ]
    },
    {
     "name": "stdout",
     "output_type": "stream",
     "text": [
      "[=========================================---------] 82.9% ...\r"
     ]
    },
    {
     "name": "stdout",
     "output_type": "stream",
     "text": [
      "[==========================================--------] 83.4% ...\r"
     ]
    },
    {
     "name": "stdout",
     "output_type": "stream",
     "text": [
      "[==========================================--------] 84.0% ...\r"
     ]
    },
    {
     "name": "stdout",
     "output_type": "stream",
     "text": [
      "[==========================================--------] 84.5% ...\r"
     ]
    },
    {
     "name": "stdout",
     "output_type": "stream",
     "text": [
      "[===========================================-------] 85.1% ...\r"
     ]
    },
    {
     "name": "stdout",
     "output_type": "stream",
     "text": [
      "[===========================================-------] 85.6% ...\r"
     ]
    },
    {
     "name": "stdout",
     "output_type": "stream",
     "text": [
      "[===========================================-------] 86.2% ...\r"
     ]
    },
    {
     "name": "stdout",
     "output_type": "stream",
     "text": [
      "[===========================================-------] 86.7% ...\r"
     ]
    },
    {
     "name": "stdout",
     "output_type": "stream",
     "text": [
      "[============================================------] 87.3% ...\r"
     ]
    },
    {
     "name": "stdout",
     "output_type": "stream",
     "text": [
      "[============================================------] 87.8% ...\r"
     ]
    },
    {
     "name": "stdout",
     "output_type": "stream",
     "text": [
      "[============================================------] 88.4% ...\r"
     ]
    },
    {
     "name": "stdout",
     "output_type": "stream",
     "text": [
      "[============================================------] 89.0% ...\r"
     ]
    },
    {
     "name": "stdout",
     "output_type": "stream",
     "text": [
      "[=============================================-----] 89.5% ...\r"
     ]
    },
    {
     "name": "stdout",
     "output_type": "stream",
     "text": [
      "[=============================================-----] 90.1% ...\r"
     ]
    },
    {
     "name": "stdout",
     "output_type": "stream",
     "text": [
      "[=============================================-----] 90.6% ...\r"
     ]
    },
    {
     "name": "stdout",
     "output_type": "stream",
     "text": [
      "[==============================================----] 91.2% ...\r"
     ]
    },
    {
     "name": "stdout",
     "output_type": "stream",
     "text": [
      "[==============================================----] 91.7% ...\r"
     ]
    },
    {
     "name": "stdout",
     "output_type": "stream",
     "text": [
      "[==============================================----] 92.3% ...\r"
     ]
    },
    {
     "name": "stdout",
     "output_type": "stream",
     "text": [
      "[==============================================----] 92.8% ...\r"
     ]
    },
    {
     "name": "stdout",
     "output_type": "stream",
     "text": [
      "[===============================================---] 93.4% ...\r"
     ]
    },
    {
     "name": "stdout",
     "output_type": "stream",
     "text": [
      "[===============================================---] 93.9% ...\r"
     ]
    },
    {
     "name": "stdout",
     "output_type": "stream",
     "text": [
      "[===============================================---] 94.5% ...\r"
     ]
    },
    {
     "name": "stdout",
     "output_type": "stream",
     "text": [
      "[================================================--] 95.0% ...\r"
     ]
    },
    {
     "name": "stdout",
     "output_type": "stream",
     "text": [
      "[================================================--] 95.6% ...\r"
     ]
    },
    {
     "name": "stdout",
     "output_type": "stream",
     "text": [
      "[================================================--] 96.1% ...\r"
     ]
    },
    {
     "name": "stdout",
     "output_type": "stream",
     "text": [
      "[================================================--] 96.7% ...\r"
     ]
    },
    {
     "name": "stdout",
     "output_type": "stream",
     "text": [
      "[=================================================-] 97.2% ...\r"
     ]
    },
    {
     "name": "stdout",
     "output_type": "stream",
     "text": [
      "[=================================================-] 97.8% ...\r"
     ]
    },
    {
     "name": "stdout",
     "output_type": "stream",
     "text": [
      "[=================================================-] 98.3% ...\r"
     ]
    },
    {
     "name": "stdout",
     "output_type": "stream",
     "text": [
      "[=================================================-] 98.9% ...\r"
     ]
    },
    {
     "name": "stdout",
     "output_type": "stream",
     "text": [
      "[==================================================] 99.4% ...\r"
     ]
    },
    {
     "name": "stdout",
     "output_type": "stream",
     "text": [
      "[--------------------------------------------------] 0.0% ...\r"
     ]
    },
    {
     "name": "stdout",
     "output_type": "stream",
     "text": [
      "[--------------------------------------------------] 0.6% ...\r"
     ]
    },
    {
     "name": "stdout",
     "output_type": "stream",
     "text": [
      "[=-------------------------------------------------] 1.1% ...\r"
     ]
    },
    {
     "name": "stdout",
     "output_type": "stream",
     "text": [
      "[=-------------------------------------------------] 1.7% ...\r"
     ]
    },
    {
     "name": "stdout",
     "output_type": "stream",
     "text": [
      "[=-------------------------------------------------] 2.2% ...\r"
     ]
    },
    {
     "name": "stdout",
     "output_type": "stream",
     "text": [
      "[=-------------------------------------------------] 2.8% ...\r"
     ]
    },
    {
     "name": "stdout",
     "output_type": "stream",
     "text": [
      "[==------------------------------------------------] 3.3% ...\r"
     ]
    },
    {
     "ename": "KeyboardInterrupt",
     "evalue": "",
     "traceback": [
      "\u001b[1;31m---------------------------------------------------------------------------\u001b[0m",
      "\u001b[1;31mKeyboardInterrupt\u001b[0m                         Traceback (most recent call last)",
      "\u001b[1;32m<ipython-input-14-e99f590389bb>\u001b[0m in \u001b[0;36m<module>\u001b[1;34m\u001b[0m\n\u001b[1;32m----> 1\u001b[1;33m \u001b[0ms\u001b[0m\u001b[1;33m.\u001b[0m\u001b[0minit_metrics\u001b[0m\u001b[1;33m(\u001b[0m\u001b[0mref_mod\u001b[0m\u001b[1;33m.\u001b[0m\u001b[0mcluster_toarray\u001b[0m\u001b[1;33m(\u001b[0m\u001b[1;33m)\u001b[0m\u001b[1;33m)\u001b[0m\u001b[1;33m\u001b[0m\u001b[0m\n\u001b[0m",
      "\u001b[1;32mC:\\Users\\hhoareau\\PycharmProjects\\clusterBench\\clusterBench\\simulation.py\u001b[0m in \u001b[0;36minit_metrics\u001b[1;34m(self, true_labels, filename)\u001b[0m\n\u001b[0;32m    132\u001b[0m             \u001b[1;32mif\u001b[0m \u001b[0mshowProgress\u001b[0m\u001b[1;33m:\u001b[0m\u001b[0mtools\u001b[0m\u001b[1;33m.\u001b[0m\u001b[0mprogress\u001b[0m\u001b[1;33m(\u001b[0m\u001b[0mi\u001b[0m\u001b[1;33m,\u001b[0m \u001b[0mlen\u001b[0m\u001b[1;33m(\u001b[0m\u001b[0mself\u001b[0m\u001b[1;33m.\u001b[0m\u001b[0mmodels\u001b[0m\u001b[1;33m)\u001b[0m\u001b[1;33m)\u001b[0m\u001b[1;33m\u001b[0m\u001b[0m\n\u001b[0;32m    133\u001b[0m             \u001b[0mm\u001b[0m \u001b[1;33m=\u001b[0m \u001b[0mself\u001b[0m\u001b[1;33m.\u001b[0m\u001b[0mmodels\u001b[0m\u001b[1;33m[\u001b[0m\u001b[0mi\u001b[0m\u001b[1;33m]\u001b[0m\u001b[1;33m\u001b[0m\u001b[0m\n\u001b[1;32m--> 134\u001b[1;33m             \u001b[0mself\u001b[0m\u001b[1;33m.\u001b[0m\u001b[0mmetrics\u001b[0m \u001b[1;33m=\u001b[0m \u001b[0mself\u001b[0m\u001b[1;33m.\u001b[0m\u001b[0mmetrics\u001b[0m\u001b[1;33m.\u001b[0m\u001b[0mappend\u001b[0m\u001b[1;33m(\u001b[0m\u001b[0mm\u001b[0m\u001b[1;33m.\u001b[0m\u001b[0mtoDataframe\u001b[0m\u001b[1;33m(\u001b[0m\u001b[0mtrue_labels\u001b[0m\u001b[1;33m)\u001b[0m\u001b[1;33m)\u001b[0m\u001b[1;33m\u001b[0m\u001b[0m\n\u001b[0m\u001b[0;32m    135\u001b[0m             \u001b[0mrc\u001b[0m\u001b[1;33m=\u001b[0m\u001b[0mrc\u001b[0m\u001b[1;33m+\u001b[0m\u001b[0mm\u001b[0m\u001b[1;33m.\u001b[0m\u001b[0mprint_perfs\u001b[0m\u001b[1;33m(\u001b[0m\u001b[1;33m)\u001b[0m\u001b[1;33m\u001b[0m\u001b[0m\n\u001b[0;32m    136\u001b[0m \u001b[1;33m\u001b[0m\u001b[0m\n",
      "\u001b[1;32mC:\\Users\\hhoareau\\PycharmProjects\\clusterBench\\clusterBench\\algo.py\u001b[0m in \u001b[0;36mtoDataframe\u001b[1;34m(self, labels_true)\u001b[0m\n\u001b[0;32m    124\u001b[0m             \u001b[1;34m\"delay (secondes)\"\u001b[0m\u001b[1;33m:\u001b[0m\u001b[0mself\u001b[0m\u001b[1;33m.\u001b[0m\u001b[0mdelay\u001b[0m\u001b[1;33m,\u001b[0m\u001b[1;33m\u001b[0m\u001b[0m\n\u001b[0;32m    125\u001b[0m             \u001b[1;34m\"URL\"\u001b[0m\u001b[1;33m:\u001b[0m\u001b[0mself\u001b[0m\u001b[1;33m.\u001b[0m\u001b[0murl\u001b[0m\u001b[1;33m,\u001b[0m\u001b[1;33m\u001b[0m\u001b[0m\n\u001b[1;32m--> 126\u001b[1;33m             \u001b[1;34m\"Clusters\"\u001b[0m\u001b[1;33m:\u001b[0m\u001b[0mself\u001b[0m\u001b[1;33m.\u001b[0m\u001b[0mprint_cluster\u001b[0m\u001b[1;33m(\u001b[0m\u001b[1;33m)\u001b[0m\u001b[1;33m,\u001b[0m\u001b[1;33m\u001b[0m\u001b[0m\n\u001b[0m\u001b[0;32m    127\u001b[0m             \u001b[1;34m\"Score\"\u001b[0m\u001b[1;33m:\u001b[0m\u001b[1;33m[\u001b[0m\u001b[0mself\u001b[0m\u001b[1;33m.\u001b[0m\u001b[0mscore\u001b[0m\u001b[1;33m]\u001b[0m\u001b[1;33m,\u001b[0m\u001b[1;33m\u001b[0m\u001b[0m\n\u001b[0;32m    128\u001b[0m             \u001b[1;34m\"Rand_index\"\u001b[0m\u001b[1;33m:\u001b[0m\u001b[1;33m[\u001b[0m\u001b[0mself\u001b[0m\u001b[1;33m.\u001b[0m\u001b[0mrand_index\u001b[0m\u001b[1;33m]\u001b[0m\u001b[1;33m,\u001b[0m\u001b[1;33m\u001b[0m\u001b[0m\n",
      "\u001b[1;32mC:\\Users\\hhoareau\\PycharmProjects\\clusterBench\\clusterBench\\algo.py\u001b[0m in \u001b[0;36mprint_cluster\u001b[1;34m(self, end_line)\u001b[0m\n\u001b[0;32m     61\u001b[0m         \u001b[0ms\u001b[0m\u001b[1;33m=\u001b[0m\u001b[1;34m\"\"\u001b[0m\u001b[1;33m\u001b[0m\u001b[0m\n\u001b[0;32m     62\u001b[0m         \u001b[1;32mfor\u001b[0m \u001b[0mc\u001b[0m \u001b[1;32min\u001b[0m \u001b[0mself\u001b[0m\u001b[1;33m.\u001b[0m\u001b[0mclusters\u001b[0m\u001b[1;33m:\u001b[0m\u001b[1;33m\u001b[0m\u001b[0m\n\u001b[1;32m---> 63\u001b[1;33m             \u001b[0ms\u001b[0m\u001b[1;33m=\u001b[0m\u001b[0ms\u001b[0m\u001b[1;33m+\u001b[0m\u001b[0mc\u001b[0m\u001b[1;33m.\u001b[0m\u001b[0mprint\u001b[0m\u001b[1;33m(\u001b[0m\u001b[0mself\u001b[0m\u001b[1;33m.\u001b[0m\u001b[0mdata\u001b[0m\u001b[1;33m,\u001b[0m \u001b[0mself\u001b[0m\u001b[1;33m.\u001b[0m\u001b[0mname_col\u001b[0m\u001b[1;33m)\u001b[0m\u001b[1;33m+\u001b[0m\u001b[0mend_line\u001b[0m\u001b[1;33m\u001b[0m\u001b[0m\n\u001b[0m\u001b[0;32m     64\u001b[0m         \u001b[1;32mreturn\u001b[0m \u001b[0ms\u001b[0m\u001b[1;33m\u001b[0m\u001b[0m\n\u001b[0;32m     65\u001b[0m \u001b[1;33m\u001b[0m\u001b[0m\n",
      "\u001b[1;32mC:\\Users\\hhoareau\\PycharmProjects\\clusterBench\\clusterBench\\algo.py\u001b[0m in \u001b[0;36mprint\u001b[1;34m(self, data, label_col)\u001b[0m\n\u001b[0;32m    277\u001b[0m     \u001b[1;32mdef\u001b[0m \u001b[0mprint\u001b[0m\u001b[1;33m(\u001b[0m\u001b[0mself\u001b[0m\u001b[1;33m,\u001b[0m\u001b[0mdata\u001b[0m\u001b[1;33m,\u001b[0m\u001b[0mlabel_col\u001b[0m\u001b[1;33m=\u001b[0m\u001b[1;34m\"\"\u001b[0m\u001b[1;33m)\u001b[0m\u001b[1;33m:\u001b[0m\u001b[1;33m\u001b[0m\u001b[0m\n\u001b[0;32m    278\u001b[0m         \u001b[0ms\u001b[0m\u001b[1;33m=\u001b[0m\u001b[1;33m(\u001b[0m\u001b[1;34m\"Cluster:\"\u001b[0m\u001b[1;33m+\u001b[0m\u001b[0mself\u001b[0m\u001b[1;33m.\u001b[0m\u001b[0mname\u001b[0m\u001b[1;33m+\u001b[0m\u001b[1;34m\"=\"\u001b[0m\u001b[1;33m)\u001b[0m\u001b[1;33m\u001b[0m\u001b[0m\n\u001b[1;32m--> 279\u001b[1;33m         \u001b[0ms\u001b[0m\u001b[1;33m=\u001b[0m\u001b[0ms\u001b[0m\u001b[1;33m+\u001b[0m\u001b[1;33m(\u001b[0m\u001b[1;34m\" / \"\u001b[0m\u001b[1;33m.\u001b[0m\u001b[0mjoin\u001b[0m\u001b[1;33m(\u001b[0m\u001b[0mdata\u001b[0m\u001b[1;33m[\u001b[0m\u001b[0mlabel_col\u001b[0m\u001b[1;33m]\u001b[0m\u001b[1;33m[\u001b[0m\u001b[0mself\u001b[0m\u001b[1;33m.\u001b[0m\u001b[0mindex\u001b[0m\u001b[1;33m]\u001b[0m\u001b[1;33m)\u001b[0m\u001b[1;33m)\u001b[0m\u001b[1;33m\u001b[0m\u001b[0m\n\u001b[0m\u001b[0;32m    280\u001b[0m         \u001b[1;32mreturn\u001b[0m \u001b[0ms\u001b[0m\u001b[1;33m\u001b[0m\u001b[0m\n\u001b[0;32m    281\u001b[0m \u001b[1;33m\u001b[0m\u001b[0m\n",
      "\u001b[1;32mC:\\ProgramData\\Miniconda3\\envs\\clusterBench\\lib\\site-packages\\pandas\\core\\series.py\u001b[0m in \u001b[0;36m__getitem__\u001b[1;34m(self, key)\u001b[0m\n\u001b[0;32m    808\u001b[0m             \u001b[0mkey\u001b[0m \u001b[1;33m=\u001b[0m \u001b[0mcheck_bool_indexer\u001b[0m\u001b[1;33m(\u001b[0m\u001b[0mself\u001b[0m\u001b[1;33m.\u001b[0m\u001b[0mindex\u001b[0m\u001b[1;33m,\u001b[0m \u001b[0mkey\u001b[0m\u001b[1;33m)\u001b[0m\u001b[1;33m\u001b[0m\u001b[0m\n\u001b[0;32m    809\u001b[0m \u001b[1;33m\u001b[0m\u001b[0m\n\u001b[1;32m--> 810\u001b[1;33m         \u001b[1;32mreturn\u001b[0m \u001b[0mself\u001b[0m\u001b[1;33m.\u001b[0m\u001b[0m_get_with\u001b[0m\u001b[1;33m(\u001b[0m\u001b[0mkey\u001b[0m\u001b[1;33m)\u001b[0m\u001b[1;33m\u001b[0m\u001b[0m\n\u001b[0m\u001b[0;32m    811\u001b[0m \u001b[1;33m\u001b[0m\u001b[0m\n\u001b[0;32m    812\u001b[0m     \u001b[1;32mdef\u001b[0m \u001b[0m_get_with\u001b[0m\u001b[1;33m(\u001b[0m\u001b[0mself\u001b[0m\u001b[1;33m,\u001b[0m \u001b[0mkey\u001b[0m\u001b[1;33m)\u001b[0m\u001b[1;33m:\u001b[0m\u001b[1;33m\u001b[0m\u001b[0m\n",
      "\u001b[1;32mC:\\ProgramData\\Miniconda3\\envs\\clusterBench\\lib\\site-packages\\pandas\\core\\series.py\u001b[0m in \u001b[0;36m_get_with\u001b[1;34m(self, key)\u001b[0m\n\u001b[0;32m    836\u001b[0m                 \u001b[0mkey_type\u001b[0m \u001b[1;33m=\u001b[0m \u001b[0mkey\u001b[0m\u001b[1;33m.\u001b[0m\u001b[0minferred_type\u001b[0m\u001b[1;33m\u001b[0m\u001b[0m\n\u001b[0;32m    837\u001b[0m             \u001b[1;32melse\u001b[0m\u001b[1;33m:\u001b[0m\u001b[1;33m\u001b[0m\u001b[0m\n\u001b[1;32m--> 838\u001b[1;33m                 \u001b[0mkey_type\u001b[0m \u001b[1;33m=\u001b[0m \u001b[0mlib\u001b[0m\u001b[1;33m.\u001b[0m\u001b[0minfer_dtype\u001b[0m\u001b[1;33m(\u001b[0m\u001b[0mkey\u001b[0m\u001b[1;33m)\u001b[0m\u001b[1;33m\u001b[0m\u001b[0m\n\u001b[0m\u001b[0;32m    839\u001b[0m \u001b[1;33m\u001b[0m\u001b[0m\n\u001b[0;32m    840\u001b[0m             \u001b[1;32mif\u001b[0m \u001b[0mkey_type\u001b[0m \u001b[1;33m==\u001b[0m \u001b[1;34m'integer'\u001b[0m\u001b[1;33m:\u001b[0m\u001b[1;33m\u001b[0m\u001b[0m\n",
      "\u001b[1;32mpandas/_libs/src\\inference.pyx\u001b[0m in \u001b[0;36mpandas._libs.lib.infer_dtype\u001b[1;34m()\u001b[0m\n",
      "\u001b[1;32mC:\\ProgramData\\Miniconda3\\envs\\clusterBench\\lib\\importlib\\_bootstrap.py\u001b[0m in \u001b[0;36m_find_and_load\u001b[1;34m(name, import_)\u001b[0m\n",
      "\u001b[1;32mC:\\ProgramData\\Miniconda3\\envs\\clusterBench\\lib\\importlib\\_bootstrap.py\u001b[0m in \u001b[0;36m_find_and_load_unlocked\u001b[1;34m(name, import_)\u001b[0m\n",
      "\u001b[1;32mC:\\ProgramData\\Miniconda3\\envs\\clusterBench\\lib\\importlib\\_bootstrap.py\u001b[0m in \u001b[0;36m_find_spec\u001b[1;34m(name, path, target)\u001b[0m\n",
      "\u001b[1;32mC:\\ProgramData\\Miniconda3\\envs\\clusterBench\\lib\\importlib\\_bootstrap_external.py\u001b[0m in \u001b[0;36mfind_spec\u001b[1;34m(cls, fullname, path, target)\u001b[0m\n",
      "\u001b[1;32mC:\\ProgramData\\Miniconda3\\envs\\clusterBench\\lib\\importlib\\_bootstrap_external.py\u001b[0m in \u001b[0;36m_get_spec\u001b[1;34m(cls, fullname, path, target)\u001b[0m\n",
      "\u001b[1;32mC:\\ProgramData\\Miniconda3\\envs\\clusterBench\\lib\\importlib\\_bootstrap_external.py\u001b[0m in \u001b[0;36mfind_spec\u001b[1;34m(self, fullname, target)\u001b[0m\n",
      "\u001b[1;32mC:\\ProgramData\\Miniconda3\\envs\\clusterBench\\lib\\importlib\\_bootstrap_external.py\u001b[0m in \u001b[0;36m_path_stat\u001b[1;34m(path)\u001b[0m\n",
      "\u001b[1;31mKeyboardInterrupt\u001b[0m: "
     ],
     "output_type": "error"
    }
   ],
   "source": [
    "s.init_metrics(ref_mod.cluster_toarray())"
   ]
  },
  {
   "cell_type": "markdown",
   "metadata": {},
   "source": [
    "Puis obtenir une représentation 3D et 2D (après application d'une ACP) des mesures avec coloration par cluster."
   ]
  },
  {
   "cell_type": "code",
   "execution_count": 16,
   "metadata": {},
   "outputs": [
    {
     "name": "stdout",
     "output_type": "stream",
     "text": [
      "Trace du modele 0\n"
     ]
    },
    {
     "ename": "TypeError",
     "evalue": "trace_artefact_2d() takes 4 positional arguments but 5 were given",
     "traceback": [
      "\u001b[1;31m---------------------------------------------------------------------------\u001b[0m",
      "\u001b[1;31mTypeError\u001b[0m                                 Traceback (most recent call last)",
      "\u001b[1;32m<ipython-input-16-20d07d317437>\u001b[0m in \u001b[0;36m<module>\u001b[1;34m\u001b[0m\n\u001b[0;32m      2\u001b[0m \u001b[0murl_base\u001b[0m\u001b[1;33m=\u001b[0m\u001b[1;34m\"http://f80.fr/cnrs\"\u001b[0m\u001b[1;33m\u001b[0m\u001b[0m\n\u001b[0;32m      3\u001b[0m \u001b[0mname\u001b[0m\u001b[1;33m=\u001b[0m\u001b[0mstr\u001b[0m\u001b[1;33m(\u001b[0m\u001b[0mdatetime\u001b[0m\u001b[1;33m.\u001b[0m\u001b[0mdatetime\u001b[0m\u001b[1;33m.\u001b[0m\u001b[0mnow\u001b[0m\u001b[1;33m(\u001b[0m\u001b[1;33m)\u001b[0m\u001b[1;33m)\u001b[0m\u001b[1;33m.\u001b[0m\u001b[0msplit\u001b[0m\u001b[1;33m(\u001b[0m\u001b[1;34m\".\"\u001b[0m\u001b[1;33m)\u001b[0m\u001b[1;33m[\u001b[0m\u001b[1;36m0\u001b[0m\u001b[1;33m]\u001b[0m\u001b[1;33m.\u001b[0m\u001b[0mreplace\u001b[0m\u001b[1;33m(\u001b[0m\u001b[1;34m\":\"\u001b[0m\u001b[1;33m,\u001b[0m\u001b[1;34m\"\"\u001b[0m\u001b[1;33m)\u001b[0m\u001b[1;33m.\u001b[0m\u001b[0mreplace\u001b[0m\u001b[1;33m(\u001b[0m\u001b[1;34m\"2018-\"\u001b[0m\u001b[1;33m,\u001b[0m\u001b[1;34m\"\"\u001b[0m\u001b[1;33m)\u001b[0m\u001b[1;33m\u001b[0m\u001b[0m\n\u001b[1;32m----> 4\u001b[1;33m \u001b[0mprint\u001b[0m\u001b[1;33m(\u001b[0m\u001b[0ms\u001b[0m\u001b[1;33m.\u001b[0m\u001b[0mcreate_trace\u001b[0m\u001b[1;33m(\u001b[0m\u001b[0murl_base\u001b[0m\u001b[1;33m,\u001b[0m\u001b[1;34m\"best\"\u001b[0m\u001b[1;33m+\u001b[0m\u001b[0mname\u001b[0m\u001b[1;33m)\u001b[0m\u001b[1;33m)\u001b[0m\u001b[1;33m\u001b[0m\u001b[0m\n\u001b[0m",
      "\u001b[1;32mC:\\Users\\hhoareau\\PycharmProjects\\clusterBench\\clusterBench\\simulation.py\u001b[0m in \u001b[0;36mcreate_trace\u001b[1;34m(self, url, name)\u001b[0m\n\u001b[0;32m    112\u001b[0m             \u001b[0mprint\u001b[0m\u001b[1;33m(\u001b[0m\u001b[1;34m\"Trace du modele \"\u001b[0m \u001b[1;33m+\u001b[0m \u001b[0mstr\u001b[0m\u001b[1;33m(\u001b[0m\u001b[0mi\u001b[0m\u001b[1;33m)\u001b[0m\u001b[1;33m)\u001b[0m\u001b[1;33m\u001b[0m\u001b[0m\n\u001b[0;32m    113\u001b[0m             \u001b[0mcode\u001b[0m \u001b[1;33m=\u001b[0m \u001b[0mcode\u001b[0m \u001b[1;33m+\u001b[0m \u001b[1;34m\"\\nPosition \"\u001b[0m \u001b[1;33m+\u001b[0m \u001b[0mstr\u001b[0m\u001b[1;33m(\u001b[0m\u001b[0mi\u001b[0m \u001b[1;33m+\u001b[0m \u001b[1;36m1\u001b[0m\u001b[1;33m)\u001b[0m \u001b[1;33m+\u001b[0m \u001b[1;34m\"<br>\"\u001b[0m\u001b[1;33m\u001b[0m\u001b[0m\n\u001b[1;32m--> 114\u001b[1;33m             \u001b[0mcode\u001b[0m \u001b[1;33m=\u001b[0m \u001b[0mcode\u001b[0m \u001b[1;33m+\u001b[0m \u001b[0mself\u001b[0m\u001b[1;33m.\u001b[0m\u001b[0mmodels\u001b[0m\u001b[1;33m[\u001b[0m\u001b[0mi\u001b[0m\u001b[1;33m]\u001b[0m\u001b[1;33m.\u001b[0m\u001b[0mtrace\u001b[0m\u001b[1;33m(\u001b[0m\u001b[1;34m\"./saved\"\u001b[0m\u001b[1;33m,\u001b[0m \u001b[0mname\u001b[0m \u001b[1;33m+\u001b[0m \u001b[0mstr\u001b[0m\u001b[1;33m(\u001b[0m\u001b[0mi\u001b[0m\u001b[1;33m)\u001b[0m\u001b[1;33m,\u001b[0m \u001b[0mself\u001b[0m\u001b[1;33m.\u001b[0m\u001b[0mcol_name\u001b[0m\u001b[1;33m,\u001b[0m \u001b[0murl\u001b[0m\u001b[1;33m)\u001b[0m\u001b[1;33m\u001b[0m\u001b[0m\n\u001b[0m\u001b[0;32m    115\u001b[0m             \u001b[0mcode\u001b[0m \u001b[1;33m=\u001b[0m \u001b[0mcode\u001b[0m \u001b[1;33m+\u001b[0m \u001b[0mself\u001b[0m\u001b[1;33m.\u001b[0m\u001b[0mmodels\u001b[0m\u001b[1;33m[\u001b[0m\u001b[0mi\u001b[0m\u001b[1;33m]\u001b[0m\u001b[1;33m.\u001b[0m\u001b[0mprint_perfs\u001b[0m\u001b[1;33m(\u001b[0m\u001b[1;33m)\u001b[0m\u001b[1;33m\u001b[0m\u001b[0m\n\u001b[0;32m    116\u001b[0m \u001b[1;33m\u001b[0m\u001b[0m\n",
      "\u001b[1;32mC:\\Users\\hhoareau\\PycharmProjects\\clusterBench\\clusterBench\\algo.py\u001b[0m in \u001b[0;36mtrace\u001b[1;34m(self, path, filename, label_col_name, url_base)\u001b[0m\n\u001b[0;32m     80\u001b[0m         )\n\u001b[0;32m     81\u001b[0m         \u001b[0ms\u001b[0m\u001b[1;33m=\u001b[0m\u001b[1;34m\"<a href='\"\u001b[0m\u001b[1;33m+\u001b[0m\u001b[0mself\u001b[0m\u001b[1;33m.\u001b[0m\u001b[0murl\u001b[0m\u001b[1;33m+\u001b[0m\u001b[1;34m\"'>représentation 3D</a>\\n\"\u001b[0m\u001b[1;33m\u001b[0m\u001b[0m\n\u001b[1;32m---> 82\u001b[1;33m         \u001b[0ms\u001b[0m\u001b[1;33m=\u001b[0m \u001b[0ms\u001b[0m \u001b[1;33m+\u001b[0m \u001b[1;33m(\u001b[0m\u001b[1;34m\"<a href='\"\u001b[0m \u001b[1;33m+\u001b[0m \u001b[0murl_base\u001b[0m \u001b[1;33m+\u001b[0m \u001b[1;34m\"/\"\u001b[0m \u001b[1;33m+\u001b[0m \u001b[0mdraw\u001b[0m\u001b[1;33m.\u001b[0m\u001b[0mtrace_artefact_2d\u001b[0m\u001b[1;33m(\u001b[0m\u001b[0mself\u001b[0m\u001b[1;33m.\u001b[0m\u001b[0mmesures\u001b[0m\u001b[1;33m(\u001b[0m\u001b[1;33m)\u001b[0m\u001b[1;33m,\u001b[0m \u001b[0mself\u001b[0m\u001b[1;33m.\u001b[0m\u001b[0mclusters\u001b[0m\u001b[1;33m,\u001b[0m \u001b[0mpath\u001b[0m\u001b[1;33m,\u001b[0m \u001b[0mfilename\u001b[0m\u001b[1;33m,\u001b[0m \u001b[0mlabel_col_name\u001b[0m\u001b[1;33m)\u001b[0m\u001b[1;33m)\u001b[0m \u001b[1;33m+\u001b[0m \u001b[1;34m\"'>représentation 2D</a>\\n\"\u001b[0m\u001b[1;33m\u001b[0m\u001b[0m\n\u001b[0m\u001b[0;32m     83\u001b[0m         \u001b[1;32mreturn\u001b[0m \u001b[0mself\u001b[0m\u001b[1;33m.\u001b[0m\u001b[0mprint_perfs\u001b[0m\u001b[1;33m(\u001b[0m\u001b[1;33m)\u001b[0m\u001b[1;33m+\u001b[0m\u001b[1;34m\"\\n\"\u001b[0m\u001b[1;33m+\u001b[0m\u001b[0ms\u001b[0m\u001b[1;33m+\u001b[0m\u001b[1;34m\"\\n\"\u001b[0m\u001b[1;33m\u001b[0m\u001b[0m\n\u001b[0;32m     84\u001b[0m \u001b[1;33m\u001b[0m\u001b[0m\n",
      "\u001b[1;31mTypeError\u001b[0m: trace_artefact_2d() takes 4 positional arguments but 5 were given"
     ],
     "output_type": "error"
    }
   ],
   "source": [
    "import datetime\n",
    "url_base=\"http://f80.fr/cnrs\"\n",
    "name=str(datetime.datetime.now()).split(\".\")[0].replace(\":\",\"\").replace(\"2018-\",\"\")\n",
    "print(s.create_trace(url_base,\"best\"+name))"
   ]
  },
  {
   "cell_type": "code",
   "execution_count": null,
   "metadata": {},
   "outputs": [],
   "source": []
  }
 ],
 "metadata": {
  "kernelspec": {
   "display_name": "Python 2",
   "language": "python",
   "name": "python2"
  },
  "language_info": {
   "codemirror_mode": {
    "name": "ipython",
    "version": 2
   },
   "file_extension": ".py",
   "mimetype": "text/x-python",
   "name": "python",
   "nbconvert_exporter": "python",
   "pygments_lexer": "ipython2",
   "version": "2.7.6"
  }
 },
 "nbformat": 4,
 "nbformat_minor": 0
}
